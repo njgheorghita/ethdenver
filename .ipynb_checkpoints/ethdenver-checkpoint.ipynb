{
 "cells": [
  {
   "cell_type": "markdown",
   "metadata": {
    "slideshow": {
     "slide_type": "slide"
    }
   },
   "source": [
    "# https://tinyurl.com/y4tn7g7b\n",
    "## or\n",
    "# github.com/njgheorghita/ethdenver"
   ]
  },
  {
   "cell_type": "code",
   "execution_count": null,
   "metadata": {
    "slideshow": {
     "slide_type": "slide"
    }
   },
   "outputs": [],
   "source": [
    "#### Raise your hands if you've ever used a package manager\n",
    "#### Raise your hands if you've ever copy/pasted an ABI\n",
    "#### Raise your hands if remix -> bytecode"
   ]
  },
  {
   "cell_type": "markdown",
   "metadata": {
    "slideshow": {
     "slide_type": "slide"
    }
   },
   "source": [
    "# The first rule of EthPM"
   ]
  },
  {
   "cell_type": "markdown",
   "metadata": {
    "slideshow": {
     "slide_type": "fragment"
    }
   },
   "source": [
    "# Only install packages from **TRUSTED** registries."
   ]
  },
  {
   "cell_type": "markdown",
   "metadata": {
    "slideshow": {
     "slide_type": "fragment"
    }
   },
   "source": [
    "# repeat after me"
   ]
  },
  {
   "cell_type": "code",
   "execution_count": null,
   "metadata": {
    "slideshow": {
     "slide_type": "fragment"
    }
   },
   "outputs": [],
   "source": [
    "# shoutout explorer/directory"
   ]
  },
  {
   "cell_type": "markdown",
   "metadata": {
    "slideshow": {
     "slide_type": "slide"
    }
   },
   "source": [
    "![title](multisig/1.png)"
   ]
  },
  {
   "cell_type": "markdown",
   "metadata": {
    "slideshow": {
     "slide_type": "fragment"
    }
   },
   "source": [
    "# mission: save grandma's arm"
   ]
  },
  {
   "cell_type": "markdown",
   "metadata": {
    "slideshow": {
     "slide_type": "slide"
    }
   },
   "source": [
    "# some words\n",
    "\n",
    "### registry - on-chain, stores packages\n",
    "- composed of packages\n",
    "\n",
    "### package - eg `wallet` or `multisig`\n",
    "- composed of releases\n",
    "\n",
    "### release (version) - eg `wallet v1.0.0` or `wallet v1.0.1`\n",
    "- composed of `package_name` - `version` - `uri`\n",
    "\n",
    "### manifest - json representing a release"
   ]
  },
  {
   "cell_type": "markdown",
   "metadata": {
    "slideshow": {
     "slide_type": "slide"
    }
   },
   "source": [
    "# Setup  <--\n",
    "##### Deploy \"SaveGrandma\" multisig\n",
    "##### Package up \"SaveGrandma\"\n",
    "##### Deploy new package registry & tie to ENS\n",
    "##### Publish \"SaveGrandma\" package\n",
    "##### Coop: Fund approve tx \"SaveGrandma\"\n",
    "##### Dr. : Approve \"SaveGrandma\"\n",
    "##### Save Grandma"
   ]
  },
  {
   "cell_type": "code",
   "execution_count": 1,
   "metadata": {
    "slideshow": {
     "slide_type": "slide"
    }
   },
   "outputs": [],
   "source": [
    "# web3.py\n",
    "from web3.auto.infura import w3\n",
    "from web3.middleware import construct_sign_and_send_raw_middleware\n",
    "from ens.utils import raw_name_to_hash\n",
    "\n",
    "# ethdenver\n",
    "from secret import DR_PK, DR_ADDRESS, COOP_ADDRESS, coop_w3, GMA_ADDRESS, print_balances\n",
    "\n",
    "# py-ethpm\n",
    "from ethpm.tools import builder\n",
    "from ethpm.utils.chains import create_latest_block_uri\n",
    "from ethpm.backends.ipfs import InfuraIPFSBackend\n",
    "\n",
    "# eth-utils\n",
    "from eth_utils import to_canonical_address, to_hex"
   ]
  },
  {
   "cell_type": "code",
   "execution_count": 2,
   "metadata": {
    "slideshow": {
     "slide_type": "subslide"
    }
   },
   "outputs": [],
   "source": [
    "# Create the tx-signing middleware\n",
    "signing_middleware = construct_sign_and_send_raw_middleware(DR_PK)\n",
    "\n",
    "# Add middleware to target w3 instance\n",
    "w3.middleware_onion.add(signing_middleware)\n",
    "\n",
    "# Set default account to Address associated with middleware private key\n",
    "w3.eth.defaultAccount = DR_ADDRESS\n",
    "\n",
    "# Enable PM api (temporary)\n",
    "w3.enable_unstable_package_management_api()"
   ]
  },
  {
   "cell_type": "markdown",
   "metadata": {
    "slideshow": {
     "slide_type": "slide"
    }
   },
   "source": [
    "![title](multisig/4.png)"
   ]
  },
  {
   "cell_type": "code",
   "execution_count": null,
   "metadata": {
    "slideshow": {
     "slide_type": "-"
    }
   },
   "outputs": [],
   "source": [
    "w3.pm"
   ]
  },
  {
   "cell_type": "markdown",
   "metadata": {
    "slideshow": {
     "slide_type": "slide"
    }
   },
   "source": [
    "![title](multisig/2.png)"
   ]
  },
  {
   "cell_type": "code",
   "execution_count": 3,
   "metadata": {
    "slideshow": {
     "slide_type": "slide"
    }
   },
   "outputs": [
    {
     "ename": "AttributeError",
     "evalue": "'PM' object has no attribute 'registry'",
     "output_type": "error",
     "traceback": [
      "\u001b[0;31m---------------------------------------------------------------------------\u001b[0m",
      "\u001b[0;31mAttributeError\u001b[0m                            Traceback (most recent call last)",
      "\u001b[0;32m<ipython-input-3-75f3448fe8c1>\u001b[0m in \u001b[0;36m<module>\u001b[0;34m\u001b[0m\n\u001b[1;32m      1\u001b[0m \u001b[0;31m# No canonical registry - needs to be trusted - needs to be set to be useful\u001b[0m\u001b[0;34m\u001b[0m\u001b[0;34m\u001b[0m\u001b[0m\n\u001b[0;32m----> 2\u001b[0;31m \u001b[0mw3\u001b[0m\u001b[0;34m.\u001b[0m\u001b[0mpm\u001b[0m\u001b[0;34m.\u001b[0m\u001b[0mregistry\u001b[0m\u001b[0;34m\u001b[0m\u001b[0m\n\u001b[0m",
      "\u001b[0;31mAttributeError\u001b[0m: 'PM' object has no attribute 'registry'"
     ]
    }
   ],
   "source": [
    "# No canonical registry - needs to be trusted - needs to be set to be useful\n",
    "w3.pm.registry"
   ]
  },
  {
   "cell_type": "code",
   "execution_count": 4,
   "metadata": {
    "slideshow": {
     "slide_type": "-"
    }
   },
   "outputs": [],
   "source": [
    "# ethpm.explorer\n",
    "w3.pm.set_registry(\"snakecharmers.eth\")"
   ]
  },
  {
   "cell_type": "code",
   "execution_count": 5,
   "metadata": {
    "slideshow": {
     "slide_type": "-"
    }
   },
   "outputs": [
    {
     "data": {
      "text/plain": [
       "'0x6b5DA3cA4286Baa7fBaf64EEEE1834C7d430B729'"
      ]
     },
     "execution_count": 5,
     "metadata": {},
     "output_type": "execute_result"
    }
   ],
   "source": [
    "w3.pm.registry.address"
   ]
  },
  {
   "cell_type": "markdown",
   "metadata": {
    "slideshow": {
     "slide_type": "slide"
    }
   },
   "source": [
    "##### Setup\n",
    "# Deploy \"SaveGrandma\" multisig  <--\n",
    "##### Package up \"SaveGrandma\"\n",
    "##### Deploy new package registry & tie to ENS\n",
    "##### Publish \"SaveGrandma\" package\n",
    "##### Coop: Fund approve tx \"SaveGrandma\"\n",
    "##### Dr. : Approve \"SaveGrandma\"\n",
    "##### Save Grandma"
   ]
  },
  {
   "cell_type": "markdown",
   "metadata": {
    "slideshow": {
     "slide_type": "slide"
    }
   },
   "source": [
    "![title](multisig/3.png)\n",
    "\n",
    "##### chain-agnostic"
   ]
  },
  {
   "cell_type": "code",
   "execution_count": 6,
   "metadata": {
    "slideshow": {
     "slide_type": "fragment"
    }
   },
   "outputs": [
    {
     "data": {
      "text/plain": [
       "<Package multisig==1.0.1>"
      ]
     },
     "execution_count": 6,
     "metadata": {},
     "output_type": "execute_result"
    }
   ],
   "source": [
    "# ethpm.explorer\n",
    "multisig_pkg = w3.pm.get_package(\"multisig\", \"1.0.1\")\n",
    "multisig_pkg"
   ]
  },
  {
   "cell_type": "code",
   "execution_count": 7,
   "metadata": {
    "slideshow": {
     "slide_type": "fragment"
    }
   },
   "outputs": [
    {
     "data": {
      "text/plain": [
       "('multisig', '1.0.1', 'ipfs://QmdFykVygYNmGrLM6VUQGf9K2r2zjzeanoY32nh7c2NAwu')"
      ]
     },
     "execution_count": 7,
     "metadata": {},
     "output_type": "execute_result"
    }
   ],
   "source": [
    "w3.pm.get_release_data(\"multisig\", \"1.0.1\")"
   ]
  },
  {
   "cell_type": "code",
   "execution_count": 8,
   "metadata": {
    "slideshow": {
     "slide_type": "fragment"
    }
   },
   "outputs": [
    {
     "data": {
      "text/plain": [
       "'ipfs://QmdFykVygYNmGrLM6VUQGf9K2r2zjzeanoY32nh7c2NAwu'"
      ]
     },
     "execution_count": 8,
     "metadata": {},
     "output_type": "execute_result"
    }
   ],
   "source": [
    "multisig_pkg.uri"
   ]
  },
  {
   "cell_type": "code",
   "execution_count": 9,
   "metadata": {
    "slideshow": {
     "slide_type": "slide"
    }
   },
   "outputs": [],
   "source": [
    "multisig_factory = multisig_pkg.get_contract_factory(\"MultiSigWallet\")"
   ]
  },
  {
   "cell_type": "code",
   "execution_count": 10,
   "metadata": {
    "slideshow": {
     "slide_type": "fragment"
    }
   },
   "outputs": [],
   "source": [
    "# JIC!! & with manifest\n",
    "tx_hash = multisig_factory.constructor([DR_ADDRESS, COOP_ADDRESS], 2).transact()\n",
    "tx_receipt = w3.eth.waitForTransactionReceipt(tx_hash)"
   ]
  },
  {
   "cell_type": "code",
   "execution_count": 11,
   "metadata": {
    "slideshow": {
     "slide_type": "fragment"
    }
   },
   "outputs": [
    {
     "data": {
      "text/plain": [
       "'0xCe0CE9c73A2ED4b204a14Dc9F13829D2F93fE779'"
      ]
     },
     "execution_count": 11,
     "metadata": {},
     "output_type": "execute_result"
    }
   ],
   "source": [
    "# 0xF81c6b404f9b94d230b7c3Db85B6960d835B04dD\n",
    "tx_receipt.contractAddress"
   ]
  },
  {
   "cell_type": "markdown",
   "metadata": {
    "slideshow": {
     "slide_type": "slide"
    }
   },
   "source": [
    "##### Setup\n",
    "##### Deploy \"SaveGrandma\" multisig\n",
    "# Package up \"SaveGrandma\"  <--\n",
    "##### Deploy new package registry & tie to ENS\n",
    "##### Publish \"SaveGrandma\" package\n",
    "##### Coop: Fund approve tx \"SaveGrandma\"\n",
    "##### Dr. : Approve \"SaveGrandma\"\n",
    "##### Save Grandma"
   ]
  },
  {
   "cell_type": "markdown",
   "metadata": {
    "slideshow": {
     "slide_type": "slide"
    }
   },
   "source": [
    "![title](multisig/5.png)"
   ]
  },
  {
   "cell_type": "code",
   "execution_count": 12,
   "metadata": {
    "slideshow": {
     "slide_type": "slide"
    }
   },
   "outputs": [],
   "source": [
    "# s/o dev tool & contract alias\n",
    "new_manifest = builder.build(\n",
    "    multisig_pkg.manifest,\n",
    "    builder.version(\"1.0.2\"),\n",
    "    builder.deployment(\n",
    "        block_uri = create_latest_block_uri(w3, from_blocks_ago=0),\n",
    "        contract_instance = 'SaveGrandma',\n",
    "        contract_type = 'MultiSigWallet',\n",
    "        address = to_canonical_address(tx_receipt.contractAddress),\n",
    "        transaction = to_hex(tx_hash),\n",
    "        block = to_hex(tx_receipt.blockHash),\n",
    "    ),\n",
    "    builder.validate(),\n",
    "    builder.pin_to_ipfs(backend=InfuraIPFSBackend(), prettify=False),\n",
    ")"
   ]
  },
  {
   "cell_type": "code",
   "execution_count": 14,
   "metadata": {
    "slideshow": {
     "slide_type": "slide"
    }
   },
   "outputs": [
    {
     "name": "stdout",
     "output_type": "stream",
     "text": [
      "[{'Name': 'tmpm_c3nvoa', 'Hash': 'Qmdc1tL17os873aUTp6dffpFQiUzfWN93WZ1wLgp4XY87s', 'Size': '104747'}]\n"
     ]
    }
   ],
   "source": [
    "# Check it out on explorer\n",
    "print(new_manifest)\n",
    "save_grandma_ipfs_uri = f\"ipfs://{new_manifest[0]['Hash']}\""
   ]
  },
  {
   "cell_type": "code",
   "execution_count": null,
   "metadata": {},
   "outputs": [],
   "source": []
  },
  {
   "cell_type": "code",
   "execution_count": null,
   "metadata": {
    "slideshow": {
     "slide_type": "fragment"
    }
   },
   "outputs": [],
   "source": [
    "# grab ENS pkg from snakecharmers.eth\n",
    "ens_pkg = w3.pm.get_package(\"ens\", \"1.0.2\")"
   ]
  },
  {
   "cell_type": "markdown",
   "metadata": {
    "slideshow": {
     "slide_type": "slide"
    }
   },
   "source": [
    "##### Setup\n",
    "##### Deploy \"SaveGrandma\" multisig\n",
    "##### Package up \"SaveGrandma\" \n",
    "# Deploy new package registry & tie to ENS  <--\n",
    "##### Publish \"SaveGrandma\" package\n",
    "##### Coop: Fund approve tx \"SaveGrandma\"\n",
    "##### Dr. : Approve \"SaveGrandma\"\n",
    "##### Save Grandma"
   ]
  },
  {
   "cell_type": "code",
   "execution_count": null,
   "metadata": {
    "slideshow": {
     "slide_type": "slide"
    }
   },
   "outputs": [],
   "source": [
    "# 0x90b4fc062609244a8cdb593787c254770a223435\n",
    "# JIC!!\n",
    "w3.pm.deploy_and_set_registry()"
   ]
  },
  {
   "cell_type": "code",
   "execution_count": null,
   "metadata": {
    "slideshow": {
     "slide_type": "fragment"
    }
   },
   "outputs": [],
   "source": [
    "print(\"Registry address: \", w3.pm.registry.address)\n",
    "print(\"Registry owner:   \", w3.pm.registry.owner())"
   ]
  },
  {
   "cell_type": "markdown",
   "metadata": {
    "slideshow": {
     "slide_type": "slide"
    }
   },
   "source": [
    "![title](multisig/7.png)"
   ]
  },
  {
   "cell_type": "code",
   "execution_count": null,
   "metadata": {
    "slideshow": {
     "slide_type": "slide"
    }
   },
   "outputs": [],
   "source": [
    "# Deployments filtered by w3\n",
    "ens = ens_pkg.deployments.get_instance(\"ENS\")\n",
    "resolver = ens_pkg.deployments.get_instance(\"PublicResolver\")"
   ]
  },
  {
   "cell_type": "code",
   "execution_count": null,
   "metadata": {
    "slideshow": {
     "slide_type": "fragment"
    }
   },
   "outputs": [],
   "source": [
    "domain = raw_name_to_hash(\"drmantistoboggan.eth\")"
   ]
  },
  {
   "cell_type": "code",
   "execution_count": null,
   "metadata": {
    "slideshow": {
     "slide_type": "fragment"
    }
   },
   "outputs": [],
   "source": [
    "resolver.functions.addr(domain).call()"
   ]
  },
  {
   "cell_type": "code",
   "execution_count": null,
   "metadata": {
    "slideshow": {
     "slide_type": "fragment"
    }
   },
   "outputs": [],
   "source": [
    "txhash_ens = resolver.functions.setAddr(domain, w3.pm.registry.address).transact()\n",
    "w3.eth.waitForTransactionReceipt(txhash_ens)\n",
    "# verify on explorer"
   ]
  },
  {
   "cell_type": "markdown",
   "metadata": {
    "slideshow": {
     "slide_type": "slide"
    }
   },
   "source": [
    "##### Setup\n",
    "##### Deploy \"SaveGrandma\" multisig\n",
    "##### Package up \"SaveGrandma\" \n",
    "##### Deploy new package registry & tie to ENS\n",
    "# Publish \"SaveGrandma\" package  <--\n",
    "##### (Coop) Fund & approve tx \"SaveGrandma\"\n",
    "##### (Dr.) Approve \"SaveGrandma\"\n",
    "##### Save Grandma"
   ]
  },
  {
   "cell_type": "code",
   "execution_count": null,
   "metadata": {
    "slideshow": {
     "slide_type": "slide"
    }
   },
   "outputs": [],
   "source": [
    "# Returns release id\n",
    "w3.pm.release_package(\"multisig\", \"1.0.2\", save_grandma_ipfs_uri)"
   ]
  },
  {
   "cell_type": "code",
   "execution_count": null,
   "metadata": {
    "slideshow": {
     "slide_type": "fragment"
    }
   },
   "outputs": [],
   "source": [
    "# ethpm.explorer\n",
    "w3.pm.get_release_data(\"multisig\", \"1.0.2\")"
   ]
  },
  {
   "cell_type": "markdown",
   "metadata": {
    "slideshow": {
     "slide_type": "slide"
    }
   },
   "source": [
    "##### Setup\n",
    "##### Deploy \"SaveGrandma\" multisig\n",
    "##### Package up \"SaveGrandma\" \n",
    "##### Deploy new package registry  & tie to ENS\n",
    "##### Publish \"SaveGrandma\" package \n",
    "# (Coop) Fund & approve tx \"SaveGrandma\"  <--\n",
    "##### (Dr.) Approve \"SaveGrandma\"\n",
    "##### Save Grandma"
   ]
  },
  {
   "cell_type": "code",
   "execution_count": null,
   "metadata": {
    "slideshow": {
     "slide_type": "slide"
    }
   },
   "outputs": [],
   "source": [
    "# coop_w3 already setup with auto-signing\n",
    "coop_w3.pm.set_registry('drmantistoboggan.eth')"
   ]
  },
  {
   "cell_type": "code",
   "execution_count": null,
   "metadata": {
    "slideshow": {
     "slide_type": "fragment"
    }
   },
   "outputs": [],
   "source": [
    "coop_w3.pm.registry.address"
   ]
  },
  {
   "cell_type": "code",
   "execution_count": null,
   "metadata": {
    "slideshow": {
     "slide_type": "fragment"
    }
   },
   "outputs": [],
   "source": [
    "coop_multisig_pkg = coop_w3.pm.get_package(\"multisig\", \"1.0.2\")"
   ]
  },
  {
   "cell_type": "code",
   "execution_count": null,
   "metadata": {
    "slideshow": {
     "slide_type": "fragment"
    }
   },
   "outputs": [],
   "source": [
    "save_grandma = coop_multisig_pkg.deployments.get_instance(\"SaveGrandma\")"
   ]
  },
  {
   "cell_type": "code",
   "execution_count": null,
   "metadata": {
    "slideshow": {
     "slide_type": "slide"
    }
   },
   "outputs": [],
   "source": [
    "# Fund multisig\n",
    "\n",
    "# BUG THIS Wasn't going with 0.1 eth\n",
    "tx1_hash = save_grandma.fallback.transact({'value': coop_w3.toWei(\"0.01\", \"ether\")})\n",
    "tx1_receipt = coop_w3.eth.waitForTransactionReceipt(tx1_hash)"
   ]
  },
  {
   "cell_type": "code",
   "execution_count": null,
   "metadata": {
    "slideshow": {
     "slide_type": "fragment"
    }
   },
   "outputs": [],
   "source": [
    "# Submit tx proposal\n",
    "# auto confirms tx\n",
    "tx2_hash = save_grandma.functions.submitTransaction(GMA_ADDRESS, coop_w3.toWei(\"0.005\", \"ether\"), b'0x').transact()\n",
    "tx2_receipt = coop_w3.eth.waitForTransactionReceipt(tx2_hash)"
   ]
  },
  {
   "cell_type": "code",
   "execution_count": null,
   "metadata": {},
   "outputs": [],
   "source": [
    "print_balances(coop_w3, save_grandma.address)"
   ]
  },
  {
   "cell_type": "markdown",
   "metadata": {
    "slideshow": {
     "slide_type": "slide"
    }
   },
   "source": [
    "##### Setup\n",
    "##### Deploy \"SaveGrandma\" multisig\n",
    "##### Package up \"SaveGrandma\" \n",
    "##### Deploy new package registry & tie to ENS\n",
    "##### Publish \"SaveGrandma\" package \n",
    "##### (Coop) Fund & approve tx \"SaveGrandma\" \n",
    "# (Dr.) Approve \"SaveGrandma\"  <--\n",
    "##### Save Grandma"
   ]
  },
  {
   "cell_type": "code",
   "execution_count": null,
   "metadata": {
    "slideshow": {
     "slide_type": "slide"
    }
   },
   "outputs": [],
   "source": [
    "w3.pm.set_registry(\"drmantistoboggan.eth\")\n",
    "multisig_pkg = w3.pm.get_package(\"multisig\", \"1.0.2\")"
   ]
  },
  {
   "cell_type": "code",
   "execution_count": null,
   "metadata": {
    "slideshow": {
     "slide_type": "fragment"
    }
   },
   "outputs": [],
   "source": [
    "drs_save_grandma = multisig_pkg.deployments.get_instance(\"SaveGrandma\")"
   ]
  },
  {
   "cell_type": "code",
   "execution_count": null,
   "metadata": {
    "slideshow": {
     "slide_type": "fragment"
    }
   },
   "outputs": [],
   "source": [
    "drs_save_grandma.functions.confirmTransaction(0).transact()"
   ]
  },
  {
   "cell_type": "code",
   "execution_count": null,
   "metadata": {
    "slideshow": {
     "slide_type": "slide"
    }
   },
   "outputs": [],
   "source": [
    "print_balances(coop_w3, save_grandma.address)"
   ]
  },
  {
   "cell_type": "markdown",
   "metadata": {
    "slideshow": {
     "slide_type": "fragment"
    }
   },
   "source": [
    "# Grandma is saved!!"
   ]
  },
  {
   "cell_type": "markdown",
   "metadata": {
    "slideshow": {
     "slide_type": "slide"
    }
   },
   "source": [
    "# recap\n",
    "- secure\n",
    "- fast\n",
    "- versioned"
   ]
  },
  {
   "cell_type": "markdown",
   "metadata": {
    "slideshow": {
     "slide_type": "slide"
    }
   },
   "source": [
    "# EthPM\n",
    "\n",
    "### for developers\n",
    "\n",
    "### for protocols\n",
    "\n",
    "### for consultants / auditors / generally impressive and inspiring people"
   ]
  },
  {
   "cell_type": "markdown",
   "metadata": {
    "slideshow": {
     "slide_type": "slide"
    }
   },
   "source": [
    "# shoutout gitter\n",
    "# shoutout ethdenver\n",
    "# shoutout 5th floor for help\n",
    "# shoutout hackathon ideas\n",
    "- (etherscan service / tool to help package up solidity - contracts / pump your own registry full of cool shit)\n",
    "\n",
    "# links\n",
    "- https://tinyurl.com/y4tn7g7b\n",
    "- github.com/njgheorghita/ethdenver\n"
   ]
  },
  {
   "cell_type": "markdown",
   "metadata": {
    "slideshow": {
     "slide_type": "slide"
    }
   },
   "source": [
    "# We who cut mere stones must always be envisioning cathedrals.\n",
    "##### - medieval quarry workers creed"
   ]
  }
 ],
 "metadata": {
  "celltoolbar": "Slideshow",
  "kernelspec": {
   "display_name": "venv",
   "language": "python",
   "name": "venv"
  },
  "language_info": {
   "codemirror_mode": {
    "name": "ipython",
    "version": 3
   },
   "file_extension": ".py",
   "mimetype": "text/x-python",
   "name": "python",
   "nbconvert_exporter": "python",
   "pygments_lexer": "ipython3",
   "version": "3.6.0"
  }
 },
 "nbformat": 4,
 "nbformat_minor": 2
}
