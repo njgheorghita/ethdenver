{
 "cells": [
  {
   "cell_type": "markdown",
   "metadata": {
    "slideshow": {
     "slide_type": "slide"
    }
   },
   "source": [
    "# https://tinyurl.com/y4tn7g7b\n",
    "## or\n",
    "# github.com/njgheorghita/ethdenver"
   ]
  },
  {
   "cell_type": "markdown",
   "metadata": {
    "slideshow": {
     "slide_type": "slide"
    }
   },
   "source": [
    "# Icebreaker"
   ]
  },
  {
   "cell_type": "markdown",
   "metadata": {
    "slideshow": {
     "slide_type": "slide"
    }
   },
   "source": [
    "# The first rule of EthPM"
   ]
  },
  {
   "cell_type": "markdown",
   "metadata": {
    "slideshow": {
     "slide_type": "fragment"
    }
   },
   "source": [
    "# Only install packages from **TRUSTED** registries."
   ]
  },
  {
   "cell_type": "code",
   "execution_count": null,
   "metadata": {
    "slideshow": {
     "slide_type": "fragment"
    }
   },
   "outputs": [],
   "source": [
    "# shoutout explorer/directory"
   ]
  },
  {
   "cell_type": "markdown",
   "metadata": {
    "slideshow": {
     "slide_type": "slide"
    }
   },
   "source": [
    "![title](multisig/1.png)"
   ]
  },
  {
   "cell_type": "markdown",
   "metadata": {
    "slideshow": {
     "slide_type": "fragment"
    }
   },
   "source": [
    "# mission: save grandma's arm"
   ]
  },
  {
   "cell_type": "markdown",
   "metadata": {
    "slideshow": {
     "slide_type": "slide"
    }
   },
   "source": [
    "# some words\n",
    "\n",
    "### registry - on-chain, stores packages\n",
    "- composed of packages\n",
    "\n",
    "### package - eg `wallet` or `multisig`\n",
    "- composed of releases\n",
    "\n",
    "### release (version) - eg `wallet v1.0.0` or `wallet v1.0.1`\n",
    "- composed of `package_name` - `version` - `uri`\n",
    "\n",
    "### manifest - json representing a release"
   ]
  },
  {
   "cell_type": "markdown",
   "metadata": {
    "slideshow": {
     "slide_type": "slide"
    }
   },
   "source": [
    "# Setup  <--\n",
    "##### Deploy \"SaveGrandma\" multisig\n",
    "##### Package up \"SaveGrandma\"\n",
    "##### Deploy new package registry & tie to ENS\n",
    "##### Publish \"SaveGrandma\" package\n",
    "##### Coop: Fund approve tx \"SaveGrandma\"\n",
    "##### Dr. : Approve \"SaveGrandma\"\n",
    "##### Save Grandma"
   ]
  },
  {
   "cell_type": "code",
   "execution_count": 1,
   "metadata": {
    "slideshow": {
     "slide_type": "slide"
    }
   },
   "outputs": [],
   "source": [
    "# web3.py\n",
    "from web3.auto.infura import w3\n",
    "from web3.middleware import construct_sign_and_send_raw_middleware\n",
    "from ens.utils import raw_name_to_hash\n",
    "\n",
    "# ethdenver\n",
    "from secret import DR_PK, DR_ADDRESS, COOP_ADDRESS, coop_w3, GMA_ADDRESS, print_balances\n",
    "\n",
    "# py-ethpm\n",
    "from ethpm.tools import builder\n",
    "from ethpm.utils.chains import create_latest_block_uri\n",
    "from ethpm.backends.ipfs import InfuraIPFSBackend\n",
    "\n",
    "# eth-utils\n",
    "from eth_utils import to_canonical_address, to_hex"
   ]
  },
  {
   "cell_type": "code",
   "execution_count": 2,
   "metadata": {
    "slideshow": {
     "slide_type": "subslide"
    }
   },
   "outputs": [],
   "source": [
    "# Create the tx-signing middleware\n",
    "signing_middleware = construct_sign_and_send_raw_middleware(DR_PK)\n",
    "\n",
    "# Add middleware to target w3 instance\n",
    "w3.middleware_onion.add(signing_middleware)\n",
    "\n",
    "# Set default account to Address associated with middleware private key\n",
    "w3.eth.defaultAccount = DR_ADDRESS\n",
    "\n",
    "# Enable PM api (temporary)\n",
    "w3.enable_unstable_package_management_api()"
   ]
  },
  {
   "cell_type": "markdown",
   "metadata": {
    "slideshow": {
     "slide_type": "slide"
    }
   },
   "source": [
    "![title](multisig/4.png)"
   ]
  },
  {
   "cell_type": "code",
   "execution_count": 3,
   "metadata": {
    "slideshow": {
     "slide_type": "-"
    }
   },
   "outputs": [
    {
     "data": {
      "text/plain": [
       "<web3.pm.PM at 0x105afc710>"
      ]
     },
     "execution_count": 3,
     "metadata": {},
     "output_type": "execute_result"
    }
   ],
   "source": [
    "w3.pm"
   ]
  },
  {
   "cell_type": "code",
   "execution_count": 4,
   "metadata": {
    "slideshow": {
     "slide_type": "slide"
    }
   },
   "outputs": [
    {
     "ename": "AttributeError",
     "evalue": "'PM' object has no attribute 'registry'",
     "output_type": "error",
     "traceback": [
      "\u001b[0;31m---------------------------------------------------------------------------\u001b[0m",
      "\u001b[0;31mAttributeError\u001b[0m                            Traceback (most recent call last)",
      "\u001b[0;32m<ipython-input-4-80a7781d8668>\u001b[0m in \u001b[0;36m<module>\u001b[0;34m\u001b[0m\n\u001b[1;32m      1\u001b[0m \u001b[0;31m# No canonical registry - should be set for best performance\u001b[0m\u001b[0;34m\u001b[0m\u001b[0;34m\u001b[0m\u001b[0m\n\u001b[0;32m----> 2\u001b[0;31m \u001b[0mw3\u001b[0m\u001b[0;34m.\u001b[0m\u001b[0mpm\u001b[0m\u001b[0;34m.\u001b[0m\u001b[0mregistry\u001b[0m\u001b[0;34m\u001b[0m\u001b[0m\n\u001b[0m",
      "\u001b[0;31mAttributeError\u001b[0m: 'PM' object has no attribute 'registry'"
     ]
    }
   ],
   "source": [
    "# No canonical registry - should be set for best performance\n",
    "w3.pm.registry"
   ]
  },
  {
   "cell_type": "code",
   "execution_count": 5,
   "metadata": {
    "slideshow": {
     "slide_type": "-"
    }
   },
   "outputs": [],
   "source": [
    "# ethpm.explorer\n",
    "w3.pm.set_registry(\"snakecharmers.eth\")"
   ]
  },
  {
   "cell_type": "code",
   "execution_count": 6,
   "metadata": {
    "slideshow": {
     "slide_type": "-"
    }
   },
   "outputs": [
    {
     "data": {
      "text/plain": [
       "'0x6b5DA3cA4286Baa7fBaf64EEEE1834C7d430B729'"
      ]
     },
     "execution_count": 6,
     "metadata": {},
     "output_type": "execute_result"
    }
   ],
   "source": [
    "w3.pm.registry.address"
   ]
  },
  {
   "cell_type": "markdown",
   "metadata": {
    "slideshow": {
     "slide_type": "slide"
    }
   },
   "source": [
    "##### Setup\n",
    "# Deploy \"SaveGrandma\" multisig  <--\n",
    "##### Package up \"SaveGrandma\"\n",
    "##### Deploy new package registry & tie to ENS\n",
    "##### Publish \"SaveGrandma\" package\n",
    "##### Coop: Fund approve tx \"SaveGrandma\"\n",
    "##### Dr. : Approve \"SaveGrandma\"\n",
    "##### Save Grandma"
   ]
  },
  {
   "cell_type": "markdown",
   "metadata": {
    "slideshow": {
     "slide_type": "slide"
    }
   },
   "source": [
    "![title](multisig/3.png)\n",
    "\n",
    "##### chain-agnostic"
   ]
  },
  {
   "cell_type": "code",
   "execution_count": 7,
   "metadata": {
    "slideshow": {
     "slide_type": "fragment"
    }
   },
   "outputs": [
    {
     "data": {
      "text/plain": [
       "<Package multisig==1.0.1>"
      ]
     },
     "execution_count": 7,
     "metadata": {},
     "output_type": "execute_result"
    }
   ],
   "source": [
    "# ethpm.explorer\n",
    "multisig_pkg = w3.pm.get_package(\"multisig\", \"1.0.1\")\n",
    "multisig_pkg"
   ]
  },
  {
   "cell_type": "code",
   "execution_count": 8,
   "metadata": {
    "slideshow": {
     "slide_type": "fragment"
    }
   },
   "outputs": [
    {
     "data": {
      "text/plain": [
       "('multisig', '1.0.1', 'ipfs://QmdFykVygYNmGrLM6VUQGf9K2r2zjzeanoY32nh7c2NAwu')"
      ]
     },
     "execution_count": 8,
     "metadata": {},
     "output_type": "execute_result"
    }
   ],
   "source": [
    "w3.pm.get_release_data(\"multisig\", \"1.0.1\")"
   ]
  },
  {
   "cell_type": "code",
   "execution_count": 9,
   "metadata": {
    "slideshow": {
     "slide_type": "fragment"
    }
   },
   "outputs": [
    {
     "data": {
      "text/plain": [
       "'ipfs://QmdFykVygYNmGrLM6VUQGf9K2r2zjzeanoY32nh7c2NAwu'"
      ]
     },
     "execution_count": 9,
     "metadata": {},
     "output_type": "execute_result"
    }
   ],
   "source": [
    "multisig_pkg.uri"
   ]
  },
  {
   "cell_type": "code",
   "execution_count": 10,
   "metadata": {
    "slideshow": {
     "slide_type": "slide"
    }
   },
   "outputs": [],
   "source": [
    "multisig_factory = multisig_pkg.get_contract_factory(\"MultiSigWallet\") "
   ]
  },
  {
   "cell_type": "code",
   "execution_count": 11,
   "metadata": {
    "slideshow": {
     "slide_type": "fragment"
    }
   },
   "outputs": [],
   "source": [
    "# tx_hash = multisig_factory.constructor([DR_ADDRESS, COOP_ADDRESS], 2).transact({\"gasPrice\": w3.toWei(\"15\", \"gwei\")})\n",
    "backup_tx_hash = \"0x049750b8015384482b3359041da187a7b2074ddf2f78cdc0d299a77f3b94ca2e\"\n",
    "tx_receipt = w3.eth.waitForTransactionReceipt(backup_tx_hash)\n",
    "tx_receipt"
   ]
  },
  {
   "cell_type": "markdown",
   "metadata": {
    "slideshow": {
     "slide_type": "slide"
    }
   },
   "source": [
    "##### Setup\n",
    "##### Deploy \"SaveGrandma\" multisig\n",
    "# Package up \"SaveGrandma\"  <--\n",
    "##### Deploy new package registry & tie to ENS\n",
    "##### Publish \"SaveGrandma\" package\n",
    "##### Coop: Fund approve tx \"SaveGrandma\"\n",
    "##### Dr. : Approve \"SaveGrandma\"\n",
    "##### Save Grandma"
   ]
  },
  {
   "cell_type": "markdown",
   "metadata": {
    "slideshow": {
     "slide_type": "slide"
    }
   },
   "source": [
    "![title](multisig/5.png)"
   ]
  },
  {
   "cell_type": "code",
   "execution_count": 13,
   "metadata": {
    "slideshow": {
     "slide_type": "slide"
    }
   },
   "outputs": [
    {
     "data": {
      "text/plain": [
       "[{'Name': 'tmpvfdqdru9',\n",
       "  'Hash': 'QmWcKmHDxcE9oRHskRC9BjN2Y8Rs4Neff7q8suXSaaYrEh',\n",
       "  'Size': '104747'}]"
      ]
     },
     "execution_count": 13,
     "metadata": {},
     "output_type": "execute_result"
    }
   ],
   "source": [
    "# s/o dev tool & contract alias\n",
    "new_manifest = builder.build(\n",
    "    multisig_pkg.manifest,\n",
    "    builder.version(\"1.0.2\"),\n",
    "    builder.deployment(\n",
    "        block_uri = create_latest_block_uri(w3, from_blocks_ago=0),\n",
    "        contract_instance = 'SaveGrandma',\n",
    "        contract_type = 'MultiSigWallet',\n",
    "        address = to_canonical_address(tx_receipt.contractAddress),\n",
    "        transaction = to_hex(tx_receipt.transactionHash),\n",
    "        block = to_hex(tx_receipt.blockHash),\n",
    "    ),\n",
    "    builder.validate(),\n",
    "    builder.pin_to_ipfs(backend=InfuraIPFSBackend(), prettify=False),\n",
    ")\n",
    "# Check it out on explorer\n",
    "new_manifest"
   ]
  },
  {
   "cell_type": "code",
   "execution_count": 14,
   "metadata": {},
   "outputs": [
    {
     "data": {
      "text/plain": [
       "'ipfs://QmWcKmHDxcE9oRHskRC9BjN2Y8Rs4Neff7q8suXSaaYrEh'"
      ]
     },
     "execution_count": 14,
     "metadata": {},
     "output_type": "execute_result"
    }
   ],
   "source": [
    "save_grandma_ipfs_uri = f\"ipfs://{new_manifest[0]['Hash']}\"\n",
    "save_grandma_ipfs_uri"
   ]
  },
  {
   "cell_type": "code",
   "execution_count": 15,
   "metadata": {
    "slideshow": {
     "slide_type": "fragment"
    }
   },
   "outputs": [],
   "source": [
    "# grab ENS pkg from snakecharmers.eth\n",
    "ens_pkg = w3.pm.get_package(\"ens\", \"1.0.2\")"
   ]
  },
  {
   "cell_type": "markdown",
   "metadata": {
    "slideshow": {
     "slide_type": "slide"
    }
   },
   "source": [
    "##### Setup\n",
    "##### Deploy \"SaveGrandma\" multisig\n",
    "##### Package up \"SaveGrandma\" \n",
    "# Deploy new package registry & tie to ENS  <--\n",
    "##### Publish \"SaveGrandma\" package\n",
    "##### Coop: Fund approve tx \"SaveGrandma\"\n",
    "##### Dr. : Approve \"SaveGrandma\"\n",
    "##### Save Grandma"
   ]
  },
  {
   "cell_type": "code",
   "execution_count": 17,
   "metadata": {
    "slideshow": {
     "slide_type": "slide"
    }
   },
   "outputs": [],
   "source": [
    "# w3.pm.deploy_and_set_registry()\n",
    "w3.pm.set_registry(to_canonical_address('0x8f3c73ba93fb291687c47fca9648d0d10035ec41'))"
   ]
  },
  {
   "cell_type": "code",
   "execution_count": 18,
   "metadata": {
    "slideshow": {
     "slide_type": "fragment"
    }
   },
   "outputs": [
    {
     "name": "stdout",
     "output_type": "stream",
     "text": [
      "Registry address:  0x8f3C73BA93FB291687c47FCA9648d0D10035EC41\n",
      "Registry owner:    0x9182902397B57a8c611D764D4DCD24BA951B4319\n"
     ]
    }
   ],
   "source": [
    "print(\"Registry address: \", w3.pm.registry.address)\n",
    "print(\"Registry owner:   \", w3.pm.registry.owner())"
   ]
  },
  {
   "cell_type": "markdown",
   "metadata": {
    "slideshow": {
     "slide_type": "slide"
    }
   },
   "source": [
    "![title](multisig/7.png)"
   ]
  },
  {
   "cell_type": "code",
   "execution_count": 19,
   "metadata": {
    "slideshow": {
     "slide_type": "slide"
    }
   },
   "outputs": [],
   "source": [
    "# Deployments filtered by w3\n",
    "resolver = ens_pkg.deployments.get_instance(\"PublicResolver\")"
   ]
  },
  {
   "cell_type": "code",
   "execution_count": 20,
   "metadata": {
    "slideshow": {
     "slide_type": "fragment"
    }
   },
   "outputs": [],
   "source": [
    "domain = raw_name_to_hash(\"drmantistoboggan.eth\")"
   ]
  },
  {
   "cell_type": "code",
   "execution_count": 21,
   "metadata": {
    "slideshow": {
     "slide_type": "fragment"
    }
   },
   "outputs": [
    {
     "data": {
      "text/plain": [
       "'0x097ddf430E020aEED8dF7e7DF49B41211F3B2494'"
      ]
     },
     "execution_count": 21,
     "metadata": {},
     "output_type": "execute_result"
    }
   ],
   "source": [
    "resolver.functions.addr(domain).call()"
   ]
  },
  {
   "cell_type": "code",
   "execution_count": 22,
   "metadata": {
    "collapsed": true,
    "slideshow": {
     "slide_type": "fragment"
    }
   },
   "outputs": [
    {
     "data": {
      "text/plain": [
       "AttributeDict({'blockHash': HexBytes('0x6e9104ee2cf4542a2c89f8ac26579fcc84ebad59b0aa8a7236894ba01c98d7c7'),\n",
       " 'blockNumber': 7224253,\n",
       " 'contractAddress': None,\n",
       " 'cumulativeGasUsed': 6092040,\n",
       " 'from': '0x9182902397b57a8c611d764d4dcd24ba951b4319',\n",
       " 'gasUsed': 34533,\n",
       " 'logs': [AttributeDict({'address': '0x5FfC014343cd971B7eb70732021E26C35B744cc4',\n",
       "   'blockHash': HexBytes('0x6e9104ee2cf4542a2c89f8ac26579fcc84ebad59b0aa8a7236894ba01c98d7c7'),\n",
       "   'blockNumber': 7224253,\n",
       "   'data': '0x0000000000000000000000008f3c73ba93fb291687c47fca9648d0d10035ec41',\n",
       "   'logIndex': 66,\n",
       "   'removed': False,\n",
       "   'topics': [HexBytes('0x52d7d861f09ab3d26239d492e8968629f95e9e318cf0b73bfddc441522a15fd2'),\n",
       "    HexBytes('0x0b9c570f29e1c7ee77c056a75649b71f5c61b513125c50582656ec3075e407f1')],\n",
       "   'transactionHash': HexBytes('0x7181bd9156277aa0475b2d1dbe4be57c7a7dcf0bcb5b24ed6d931b8868cf620e'),\n",
       "   'transactionIndex': 88})],\n",
       " 'logsBloom': HexBytes('0x00000000000000000000000000000100000000000000000000000010000000000020000000000000000000000000000000000000000000000000000000000000004400000000000000000000000000000000000004000000000000000000000000000000000000000000000000000000000000000000000000000000000000000000000000000000000000000000000000000000000000000000000000000000000000000002000000000000000000000000000000000000000000000000000000000000000000000000000000000000000000000000000000000000000000002000000000000000000000000000000000000000000000000000000000800000'),\n",
       " 'status': 1,\n",
       " 'to': '0x5ffc014343cd971b7eb70732021e26c35b744cc4',\n",
       " 'transactionHash': HexBytes('0x7181bd9156277aa0475b2d1dbe4be57c7a7dcf0bcb5b24ed6d931b8868cf620e'),\n",
       " 'transactionIndex': 88})"
      ]
     },
     "execution_count": 22,
     "metadata": {},
     "output_type": "execute_result"
    }
   ],
   "source": [
    "txhash_ens = resolver.functions.setAddr(domain, w3.pm.registry.address).transact({'gasPrice': w3.toWei(\"20 o\", \"gwei\")})\n",
    "w3.eth.waitForTransactionReceipt(txhash_ens)\n",
    "# verify on explorer"
   ]
  },
  {
   "cell_type": "markdown",
   "metadata": {
    "slideshow": {
     "slide_type": "slide"
    }
   },
   "source": [
    "##### Setup\n",
    "##### Deploy \"SaveGrandma\" multisig\n",
    "##### Package up \"SaveGrandma\" \n",
    "##### Deploy new package registry & tie to ENS\n",
    "# Publish \"SaveGrandma\" package  <--\n",
    "##### (Coop) Fund & approve tx \"SaveGrandma\"\n",
    "##### (Dr.) Approve \"SaveGrandma\"\n",
    "##### Save Grandma"
   ]
  },
  {
   "cell_type": "code",
   "execution_count": 23,
   "metadata": {
    "slideshow": {
     "slide_type": "slide"
    }
   },
   "outputs": [
    {
     "data": {
      "text/plain": [
       "b'\\xa1\\x04\\x08\\x19\\t\\xdd\\x1d\\xe5\\x8eT\\xc2dZ\\x08\\x0bU\\xce\\xd1\\x13+N\\xe8\\xf6i\\xb1\\x13+b)\\xc02\\x9a'"
      ]
     },
     "execution_count": 23,
     "metadata": {},
     "output_type": "execute_result"
    }
   ],
   "source": [
    "# Returns release id\n",
    "w3.pm.release_package(\"multisig\", \"1.0.2\", save_grandma_ipfs_uri)"
   ]
  },
  {
   "cell_type": "code",
   "execution_count": 24,
   "metadata": {
    "slideshow": {
     "slide_type": "fragment"
    }
   },
   "outputs": [
    {
     "data": {
      "text/plain": [
       "('multisig', '1.0.2', 'ipfs://QmWcKmHDxcE9oRHskRC9BjN2Y8Rs4Neff7q8suXSaaYrEh')"
      ]
     },
     "execution_count": 24,
     "metadata": {},
     "output_type": "execute_result"
    }
   ],
   "source": [
    "# ethpm.explorer\n",
    "w3.pm.get_release_data(\"multisig\", \"1.0.2\")"
   ]
  },
  {
   "cell_type": "markdown",
   "metadata": {
    "slideshow": {
     "slide_type": "slide"
    }
   },
   "source": [
    "##### Setup\n",
    "##### Deploy \"SaveGrandma\" multisig\n",
    "##### Package up \"SaveGrandma\" \n",
    "##### Deploy new package registry  & tie to ENS\n",
    "##### Publish \"SaveGrandma\" package \n",
    "# (Coop) Fund & approve tx \"SaveGrandma\"  <--\n",
    "##### (Dr.) Approve \"SaveGrandma\"\n",
    "##### Save Grandma"
   ]
  },
  {
   "cell_type": "code",
   "execution_count": 25,
   "metadata": {
    "slideshow": {
     "slide_type": "slide"
    }
   },
   "outputs": [],
   "source": [
    "# coop_w3 already setup with auto-signing\n",
    "coop_w3.pm.set_registry('drmantistoboggan.eth')"
   ]
  },
  {
   "cell_type": "code",
   "execution_count": 26,
   "metadata": {
    "slideshow": {
     "slide_type": "fragment"
    }
   },
   "outputs": [
    {
     "data": {
      "text/plain": [
       "'0x8f3C73BA93FB291687c47FCA9648d0D10035EC41'"
      ]
     },
     "execution_count": 26,
     "metadata": {},
     "output_type": "execute_result"
    }
   ],
   "source": [
    "coop_w3.pm.registry.address"
   ]
  },
  {
   "cell_type": "code",
   "execution_count": 27,
   "metadata": {
    "slideshow": {
     "slide_type": "fragment"
    }
   },
   "outputs": [],
   "source": [
    "coop_multisig_pkg = coop_w3.pm.get_package(\"multisig\", \"1.0.2\")"
   ]
  },
  {
   "cell_type": "code",
   "execution_count": 28,
   "metadata": {
    "slideshow": {
     "slide_type": "fragment"
    }
   },
   "outputs": [],
   "source": [
    "save_grandma = coop_multisig_pkg.deployments.get_instance(\"SaveGrandma\")"
   ]
  },
  {
   "cell_type": "code",
   "execution_count": 29,
   "metadata": {},
   "outputs": [
    {
     "name": "stdout",
     "output_type": "stream",
     "text": [
      "Grandma:  0 ETH\n",
      "Multisig: 0 ETH\n",
      "Coop:     0.096548601597170201 ETH\n"
     ]
    }
   ],
   "source": [
    "print_balances(coop_w3, save_grandma.address)"
   ]
  },
  {
   "cell_type": "code",
   "execution_count": 30,
   "metadata": {
    "slideshow": {
     "slide_type": "slide"
    }
   },
   "outputs": [],
   "source": [
    "# Fund multisig\n",
    "\n",
    "# BUG THIS Wasn't going with 0.1 eth\n",
    "tx1_hash = save_grandma.fallback.transact({'value': w3.toWei(\"0.01\", \"ether\")})\n",
    "tx1_receipt = coop_w3.eth.waitForTransactionReceipt(tx1_hash)"
   ]
  },
  {
   "cell_type": "code",
   "execution_count": 31,
   "metadata": {},
   "outputs": [
    {
     "name": "stdout",
     "output_type": "stream",
     "text": [
      "Grandma:  0 ETH\n",
      "Multisig: 0.01 ETH\n",
      "Coop:     0.086368489597170201 ETH\n"
     ]
    }
   ],
   "source": [
    "print_balances(coop_w3, save_grandma.address)"
   ]
  },
  {
   "cell_type": "code",
   "execution_count": 32,
   "metadata": {
    "slideshow": {
     "slide_type": "fragment"
    }
   },
   "outputs": [],
   "source": [
    "# Submit tx proposal\n",
    "# auto confirms tx\n",
    "tx2_hash = save_grandma.functions.submitTransaction(GMA_ADDRESS, coop_w3.toWei(\"0.005\", \"ether\"), b'0x').transact()\n",
    "tx2_receipt = coop_w3.eth.waitForTransactionReceipt(tx2_hash)"
   ]
  },
  {
   "cell_type": "markdown",
   "metadata": {
    "slideshow": {
     "slide_type": "slide"
    }
   },
   "source": [
    "##### Setup\n",
    "##### Deploy \"SaveGrandma\" multisig\n",
    "##### Package up \"SaveGrandma\" \n",
    "##### Deploy new package registry & tie to ENS\n",
    "##### Publish \"SaveGrandma\" package \n",
    "##### (Coop) Fund & approve tx \"SaveGrandma\" \n",
    "# (Dr.) Approve \"SaveGrandma\"  <--\n",
    "##### Save Grandma"
   ]
  },
  {
   "cell_type": "code",
   "execution_count": 33,
   "metadata": {
    "slideshow": {
     "slide_type": "slide"
    }
   },
   "outputs": [],
   "source": [
    "w3.pm.set_registry(\"drmantistoboggan.eth\")\n",
    "multisig_pkg = w3.pm.get_package(\"multisig\", \"1.0.2\")"
   ]
  },
  {
   "cell_type": "code",
   "execution_count": 34,
   "metadata": {
    "slideshow": {
     "slide_type": "fragment"
    }
   },
   "outputs": [],
   "source": [
    "drs_save_grandma = multisig_pkg.deployments.get_instance(\"SaveGrandma\")"
   ]
  },
  {
   "cell_type": "code",
   "execution_count": 36,
   "metadata": {
    "slideshow": {
     "slide_type": "fragment"
    }
   },
   "outputs": [
    {
     "ename": "NameError",
     "evalue": "name 'dr_tx' is not defined",
     "output_type": "error",
     "traceback": [
      "\u001b[0;31m---------------------------------------------------------------------------\u001b[0m",
      "\u001b[0;31mNameError\u001b[0m                                 Traceback (most recent call last)",
      "\u001b[0;32m<ipython-input-36-038d11bd6b32>\u001b[0m in \u001b[0;36m<module>\u001b[0;34m\u001b[0m\n\u001b[1;32m      1\u001b[0m \u001b[0;31m#dr_tx = drs_save_grandma.functions.confirmTransaction(0).transact()\u001b[0m\u001b[0;34m\u001b[0m\u001b[0;34m\u001b[0m\u001b[0m\n\u001b[0;32m----> 2\u001b[0;31m \u001b[0mw3\u001b[0m\u001b[0;34m.\u001b[0m\u001b[0meth\u001b[0m\u001b[0;34m.\u001b[0m\u001b[0mwaitForTransactionReceipt\u001b[0m\u001b[0;34m(\u001b[0m\u001b[0mdr_tx\u001b[0m\u001b[0;34m)\u001b[0m\u001b[0;34m\u001b[0m\u001b[0m\n\u001b[0m",
      "\u001b[0;31mNameError\u001b[0m: name 'dr_tx' is not defined"
     ]
    }
   ],
   "source": [
    "dr_tx = drs_save_grandma.functions.confirmTransaction(0).transact()\n",
    "w3.eth.waitForTransactionReceipt(dr_tx)"
   ]
  },
  {
   "cell_type": "code",
   "execution_count": 37,
   "metadata": {
    "slideshow": {
     "slide_type": "slide"
    }
   },
   "outputs": [
    {
     "name": "stdout",
     "output_type": "stream",
     "text": [
      "Grandma:  0.005 ETH\n",
      "Multisig: 0.005 ETH\n",
      "Coop:     0.085387285597170201 ETH\n"
     ]
    }
   ],
   "source": [
    "print_balances(coop_w3, save_grandma.address)"
   ]
  },
  {
   "cell_type": "markdown",
   "metadata": {
    "slideshow": {
     "slide_type": "fragment"
    }
   },
   "source": [
    "# Grandma has a sweet new arm!"
   ]
  },
  {
   "cell_type": "markdown",
   "metadata": {
    "slideshow": {
     "slide_type": "slide"
    }
   },
   "source": [
    "# recap\n",
    "- deployed and packaged up a multisig instance\n",
    "- deployed and tied to ENS a new package registry\n",
    "- published a package\n",
    "- used the package to give grandma a dope arm"
   ]
  },
  {
   "cell_type": "markdown",
   "metadata": {
    "slideshow": {
     "slide_type": "slide"
    }
   },
   "source": [
    "# EthPM\n",
    "\n",
    "### for developers\n",
    "\n",
    "### for protocols\n",
    "\n",
    "### for consultants / auditors / generally impressive and inspiring people"
   ]
  },
  {
   "cell_type": "markdown",
   "metadata": {
    "slideshow": {
     "slide_type": "slide"
    }
   },
   "source": [
    "# shoutouts\n",
    "\n",
    "# gitter.im/ethpm   - @njgheorghita\n",
    "\n",
    "# links\n",
    "- https://tinyurl.com/y4tn7g7b\n",
    "- github.com/njgheorghita/ethdenver\n"
   ]
  },
  {
   "cell_type": "markdown",
   "metadata": {
    "slideshow": {
     "slide_type": "slide"
    }
   },
   "source": [
    "# We who cut mere stones must always be envisioning cathedrals.\n",
    "##### - medieval quarry workers creed"
   ]
  }
 ],
 "metadata": {
  "celltoolbar": "Slideshow",
  "kernelspec": {
   "display_name": "venv",
   "language": "python",
   "name": "venv"
  },
  "language_info": {
   "codemirror_mode": {
    "name": "ipython",
    "version": 3
   },
   "file_extension": ".py",
   "mimetype": "text/x-python",
   "name": "python",
   "nbconvert_exporter": "python",
   "pygments_lexer": "ipython3",
   "version": "3.6.0"
  }
 },
 "nbformat": 4,
 "nbformat_minor": 2
}
