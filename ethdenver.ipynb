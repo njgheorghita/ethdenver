{
 "cells": [
  {
   "cell_type": "code",
   "execution_count": null,
   "metadata": {
    "slideshow": {
     "slide_type": "slide"
    }
   },
   "outputs": [],
   "source": [
    "# TODO\n",
    "# publish script\n",
    "# backup plans in case some tx doesnt go\n",
    "# fund all relevant accounts\n",
    "# include w3 gas price strategy?\n",
    "# update ethpm directory"
   ]
  },
  {
   "cell_type": "code",
   "execution_count": 51,
   "metadata": {},
   "outputs": [],
   "source": [
    "#### Raise your hands if you've ever used a package manager\n",
    "#### Raise your hands if you've ever copy/pasted an ABI\n",
    "#### Raise your hands if you've ever copy/pasted a contract address"
   ]
  },
  {
   "cell_type": "code",
   "execution_count": null,
   "metadata": {
    "slideshow": {
     "slide_type": "slide"
    }
   },
   "outputs": [],
   "source": [
    "# The first rule of EthPM"
   ]
  },
  {
   "cell_type": "code",
   "execution_count": null,
   "metadata": {
    "slideshow": {
     "slide_type": "fragment"
    }
   },
   "outputs": [],
   "source": [
    "# Only install packages from **TRUSTED** registries."
   ]
  },
  {
   "cell_type": "markdown",
   "metadata": {
    "slideshow": {
     "slide_type": "slide"
    }
   },
   "source": [
    "![title](multisig/1.png)"
   ]
  },
  {
   "cell_type": "markdown",
   "metadata": {
    "slideshow": {
     "slide_type": "fragment"
    }
   },
   "source": [
    "# mission: save grandma"
   ]
  },
  {
   "cell_type": "markdown",
   "metadata": {
    "slideshow": {
     "slide_type": "slide"
    }
   },
   "source": [
    "# Setup  <--\n",
    "### Deploy \"SaveGrandma\" multisig\n",
    "### Package up \"SaveGrandma\"\n",
    "### Deploy new package registry & tie to ENS\n",
    "### Publish \"SaveGrandma\" package\n",
    "### Coop: Fund approve tx \"SaveGrandma\"\n",
    "### Dr. : Approve \"SaveGrandma\"\n",
    "### Save Grandma"
   ]
  },
  {
   "cell_type": "code",
   "execution_count": 2,
   "metadata": {
    "slideshow": {
     "slide_type": "slide"
    }
   },
   "outputs": [],
   "source": [
    "from web3.auto.infura import w3\n",
    "from web3.middleware import construct_sign_and_send_raw_middleware\n",
    "from script import DR_PK, DR_ADDRESS, COOP_ADDRESS, coop_w3, GMA_ADDRESS, print_balances\n",
    "from ens.utils import raw_name_to_hash\n",
    "from ethpm.tools import builder\n",
    "from ethpm.utils.chains import create_latest_block_uri\n",
    "from eth_utils import to_canonical_address, to_hex\n",
    "from ethpm.backends.ipfs import InfuraIPFSBackend"
   ]
  },
  {
   "cell_type": "code",
   "execution_count": 31,
   "metadata": {
    "slideshow": {
     "slide_type": "subslide"
    }
   },
   "outputs": [],
   "source": [
    "# Create the tx-signing middleware\n",
    "signing_middleware = construct_sign_and_send_raw_middleware(DR_PK)\n",
    "\n",
    "# Add middleware to target w3 instance\n",
    "w3.middleware_onion.add(signing_middleware)\n",
    "\n",
    "# Set default account to Address associated with middleware private key\n",
    "w3.eth.defaultAccount = DR_ADDRESS\n",
    "\n",
    "# Enable PM api (temporary)\n",
    "w3.enable_unstable_package_management_api()"
   ]
  },
  {
   "cell_type": "markdown",
   "metadata": {
    "slideshow": {
     "slide_type": "slide"
    }
   },
   "source": [
    "![title](multisig/4.png)"
   ]
  },
  {
   "cell_type": "code",
   "execution_count": 49,
   "metadata": {
    "collapsed": true,
    "slideshow": {
     "slide_type": "fragment"
    }
   },
   "outputs": [
    {
     "data": {
      "text/plain": [
       "['__class__',\n",
       " '__delattr__',\n",
       " '__dict__',\n",
       " '__dir__',\n",
       " '__doc__',\n",
       " '__eq__',\n",
       " '__format__',\n",
       " '__ge__',\n",
       " '__getattribute__',\n",
       " '__gt__',\n",
       " '__hash__',\n",
       " '__init__',\n",
       " '__init_subclass__',\n",
       " '__le__',\n",
       " '__lt__',\n",
       " '__module__',\n",
       " '__ne__',\n",
       " '__new__',\n",
       " '__reduce__',\n",
       " '__reduce_ex__',\n",
       " '__repr__',\n",
       " '__setattr__',\n",
       " '__sizeof__',\n",
       " '__str__',\n",
       " '__subclasshook__',\n",
       " '__weakref__',\n",
       " '_validate_set_ens',\n",
       " '_validate_set_registry',\n",
       " 'attach',\n",
       " 'deploy_and_set_registry',\n",
       " 'get_all_package_names',\n",
       " 'get_all_package_releases',\n",
       " 'get_package',\n",
       " 'get_package_count',\n",
       " 'get_package_from_manifest',\n",
       " 'get_package_from_uri',\n",
       " 'get_release_count',\n",
       " 'get_release_data',\n",
       " 'get_release_id',\n",
       " 'get_release_id_data',\n",
       " 'registry',\n",
       " 'release_package',\n",
       " 'set_registry',\n",
       " 'web3']"
      ]
     },
     "execution_count": 49,
     "metadata": {},
     "output_type": "execute_result"
    }
   ],
   "source": [
    "dir(w3.pm)"
   ]
  },
  {
   "cell_type": "markdown",
   "metadata": {
    "slideshow": {
     "slide_type": "slide"
    }
   },
   "source": [
    "![title](multisig/2.png)"
   ]
  },
  {
   "cell_type": "code",
   "execution_count": 41,
   "metadata": {
    "slideshow": {
     "slide_type": "fragment"
    }
   },
   "outputs": [
    {
     "data": {
      "text/plain": [
       "<web3.pm.VyperReferenceRegistry at 0x109111b70>"
      ]
     },
     "execution_count": 41,
     "metadata": {},
     "output_type": "execute_result"
    }
   ],
   "source": [
    "w3.pm.registry"
   ]
  },
  {
   "cell_type": "code",
   "execution_count": 42,
   "metadata": {
    "slideshow": {
     "slide_type": "fragment"
    }
   },
   "outputs": [],
   "source": [
    "w3.pm.set_registry(\"snakecharmers.eth\")"
   ]
  },
  {
   "cell_type": "code",
   "execution_count": 43,
   "metadata": {
    "slideshow": {
     "slide_type": "fragment"
    }
   },
   "outputs": [
    {
     "data": {
      "text/plain": [
       "'0x6b5DA3cA4286Baa7fBaf64EEEE1834C7d430B729'"
      ]
     },
     "execution_count": 43,
     "metadata": {},
     "output_type": "execute_result"
    }
   ],
   "source": [
    "# ethpm.explorer\n",
    "w3.pm.registry.address"
   ]
  },
  {
   "cell_type": "markdown",
   "metadata": {
    "slideshow": {
     "slide_type": "slide"
    }
   },
   "source": [
    "##### Setup\n",
    "# Deploy \"SaveGrandma\" multisig  <--\n",
    "##### Package up \"SaveGrandma\"\n",
    "##### Deploy new package registry & tie to ENS\n",
    "##### Publish \"SaveGrandma\" package\n",
    "##### Coop: Fund approve tx \"SaveGrandma\"\n",
    "##### Dr. : Approve \"SaveGrandma\"\n",
    "##### Save Grandma"
   ]
  },
  {
   "cell_type": "markdown",
   "metadata": {
    "slideshow": {
     "slide_type": "slide"
    }
   },
   "source": [
    "![title](multisig/3.png)"
   ]
  },
  {
   "cell_type": "code",
   "execution_count": 44,
   "metadata": {
    "slideshow": {
     "slide_type": "fragment"
    }
   },
   "outputs": [],
   "source": [
    "multisig_pkg = w3.pm.get_package(\"multisig\", \"1.0.1\")\n",
    "print(type(multisig_pkg))"
   ]
  },
  {
   "cell_type": "code",
   "execution_count": 46,
   "metadata": {
    "slideshow": {
     "slide_type": "fragment"
    }
   },
   "outputs": [
    {
     "data": {
      "text/plain": [
       "('multisig', '1.0.1', 'ipfs://QmdFykVygYNmGrLM6VUQGf9K2r2zjzeanoY32nh7c2NAwu')"
      ]
     },
     "execution_count": 46,
     "metadata": {},
     "output_type": "execute_result"
    }
   ],
   "source": [
    "w3.pm.get_release_data(\"multisig\", \"1.0.1\")"
   ]
  },
  {
   "cell_type": "code",
   "execution_count": 47,
   "metadata": {
    "slideshow": {
     "slide_type": "fragment"
    }
   },
   "outputs": [
    {
     "data": {
      "text/plain": [
       "'ipfs://QmdFykVygYNmGrLM6VUQGf9K2r2zjzeanoY32nh7c2NAwu'"
      ]
     },
     "execution_count": 47,
     "metadata": {},
     "output_type": "execute_result"
    }
   ],
   "source": [
    "# Show it in the explorer\n",
    "multisig_pkg.uri"
   ]
  },
  {
   "cell_type": "code",
   "execution_count": null,
   "metadata": {
    "slideshow": {
     "slide_type": "slide"
    }
   },
   "outputs": [],
   "source": [
    "multisig_factory = multisig_pkg.get_contract_factory(\"MultiSigWallet\")"
   ]
  },
  {
   "cell_type": "code",
   "execution_count": null,
   "metadata": {
    "slideshow": {
     "slide_type": "fragment"
    }
   },
   "outputs": [],
   "source": [
    "tx_hash = multisig_factory.constructor([DR_ADDRESS, COOP_ADDRESS], 2).transact()\n",
    "tx_receipt = w3.eth.waitForTransactionReceipt(tx_hash)"
   ]
  },
  {
   "cell_type": "code",
   "execution_count": null,
   "metadata": {
    "slideshow": {
     "slide_type": "fragment"
    }
   },
   "outputs": [],
   "source": [
    "# 0xF81c6b404f9b94d230b7c3Db85B6960d835B04dD\n",
    "tx_receipt.contractAddress"
   ]
  },
  {
   "cell_type": "markdown",
   "metadata": {
    "slideshow": {
     "slide_type": "slide"
    }
   },
   "source": [
    "##### Setup\n",
    "##### Deploy \"SaveGrandma\" multisig\n",
    "# Package up \"SaveGrandma\"  <--\n",
    "##### Deploy new package registry & tie to ENS\n",
    "##### Publish \"SaveGrandma\" package\n",
    "##### Coop: Fund approve tx \"SaveGrandma\"\n",
    "##### Dr. : Approve \"SaveGrandma\"\n",
    "##### Save Grandma"
   ]
  },
  {
   "cell_type": "markdown",
   "metadata": {
    "slideshow": {
     "slide_type": "slide"
    }
   },
   "source": [
    "![title](multisig/5.png)"
   ]
  },
  {
   "cell_type": "code",
   "execution_count": null,
   "metadata": {
    "slideshow": {
     "slide_type": "slide"
    }
   },
   "outputs": [],
   "source": [
    "new_manifest = builder.build(\n",
    "    multisig_pkg.manifest,\n",
    "    builder.version(\"1.0.2\"),\n",
    "    builder.deployment(\n",
    "        block_uri = create_latest_block_uri(w3, from_blocks_ago=0),\n",
    "        contract_instance = 'SaveGrandma',\n",
    "        contract_type = 'MultiSigWallet',\n",
    "        address = to_canonical_address(tx_receipt.contractAddress),\n",
    "        transaction = to_hex(tx_hash),\n",
    "        block = to_hex(tx_receipt.blockHash),\n",
    "    ),\n",
    "    builder.validate(),\n",
    "    builder.pin_to_ipfs(backend=InfuraIPFSBackend(), prettify=False),\n",
    ")"
   ]
  },
  {
   "cell_type": "code",
   "execution_count": null,
   "metadata": {
    "slideshow": {
     "slide_type": "slide"
    }
   },
   "outputs": [],
   "source": [
    "# Check it out on explorer\n",
    "new_manifest"
   ]
  },
  {
   "cell_type": "code",
   "execution_count": null,
   "metadata": {
    "slideshow": {
     "slide_type": "fragment"
    }
   },
   "outputs": [],
   "source": [
    "# grab ENS pkg from snakecharmers.eth\n",
    "ens_pkg = w3.pm.get_package(\"ens\", \"1.0.2\")"
   ]
  },
  {
   "cell_type": "markdown",
   "metadata": {
    "slideshow": {
     "slide_type": "slide"
    }
   },
   "source": [
    "##### Setup\n",
    "##### Deploy \"SaveGrandma\" multisig\n",
    "##### Package up \"SaveGrandma\" \n",
    "# Deploy new package registry & tie to ENS  <--\n",
    "##### Publish \"SaveGrandma\" package\n",
    "##### Coop: Fund approve tx \"SaveGrandma\"\n",
    "##### Dr. : Approve \"SaveGrandma\"\n",
    "##### Save Grandma"
   ]
  },
  {
   "cell_type": "code",
   "execution_count": null,
   "metadata": {
    "slideshow": {
     "slide_type": "slide"
    }
   },
   "outputs": [],
   "source": [
    "# 0x46D533f1bdcD034785dbf7AcFca723c55B15b0b5\n",
    "w3.pm.deploy_and_set_registry()"
   ]
  },
  {
   "cell_type": "code",
   "execution_count": null,
   "metadata": {
    "slideshow": {
     "slide_type": "fragment"
    }
   },
   "outputs": [],
   "source": [
    "print(\"Registry address: \", w3.pm.registry.address)\n",
    "print(\"Registry owner:   \", w3.pm.registry.owner())"
   ]
  },
  {
   "cell_type": "code",
   "execution_count": null,
   "metadata": {
    "slideshow": {
     "slide_type": "slide"
    }
   },
   "outputs": [],
   "source": [
    "# Tie registry to ens --- you'd never say check out this cool website :ip_addr:\n",
    "ens = ens_pkg.deployments.get_instance(\"ENS\")\n",
    "resolver = ens_pkg.deployments.get_instance(\"PublicResolver\")"
   ]
  },
  {
   "cell_type": "code",
   "execution_count": null,
   "metadata": {
    "slideshow": {
     "slide_type": "fragment"
    }
   },
   "outputs": [],
   "source": [
    "domain = raw_name_to_hash(\"drmantistoboggan.eth\")"
   ]
  },
  {
   "cell_type": "code",
   "execution_count": 50,
   "metadata": {
    "collapsed": true,
    "slideshow": {
     "slide_type": "fragment"
    }
   },
   "outputs": [
    {
     "ename": "NameError",
     "evalue": "name 'resolver' is not defined",
     "output_type": "error",
     "traceback": [
      "\u001b[0;31m---------------------------------------------------------------------------\u001b[0m",
      "\u001b[0;31mNameError\u001b[0m                                 Traceback (most recent call last)",
      "\u001b[0;32m<ipython-input-50-6c1d2a405555>\u001b[0m in \u001b[0;36m<module>\u001b[0;34m\u001b[0m\n\u001b[1;32m      1\u001b[0m \u001b[0;31m# Tie registry to ens --- you'd never say check out this cool website :ip_addr:\u001b[0m\u001b[0;34m\u001b[0m\u001b[0;34m\u001b[0m\u001b[0m\n\u001b[0;32m----> 2\u001b[0;31m \u001b[0mresolver\u001b[0m\u001b[0;34m.\u001b[0m\u001b[0mfunctions\u001b[0m\u001b[0;34m.\u001b[0m\u001b[0maddr\u001b[0m\u001b[0;34m(\u001b[0m\u001b[0mdomain\u001b[0m\u001b[0;34m)\u001b[0m\u001b[0;34m.\u001b[0m\u001b[0mcall\u001b[0m\u001b[0;34m(\u001b[0m\u001b[0;34m)\u001b[0m\u001b[0;34m\u001b[0m\u001b[0m\n\u001b[0m",
      "\u001b[0;31mNameError\u001b[0m: name 'resolver' is not defined"
     ]
    }
   ],
   "source": [
    "resolver.functions.addr(domain).call()"
   ]
  },
  {
   "cell_type": "code",
   "execution_count": null,
   "metadata": {
    "slideshow": {
     "slide_type": "fragment"
    }
   },
   "outputs": [],
   "source": [
    "txhash_ens = resolver.functions.setAddr(domain, w3.pm.registry.address).transact()\n",
    "w3.eth.waitForTransactionReceipt(txhash_ens)"
   ]
  },
  {
   "cell_type": "code",
   "execution_count": 50,
   "metadata": {
    "collapsed": true,
    "slideshow": {
     "slide_type": "fragment"
    }
   },
   "outputs": [
    {
     "ename": "NameError",
     "evalue": "name 'resolver' is not defined",
     "output_type": "error",
     "traceback": [
      "\u001b[0;31m---------------------------------------------------------------------------\u001b[0m",
      "\u001b[0;31mNameError\u001b[0m                                 Traceback (most recent call last)",
      "\u001b[0;32m<ipython-input-50-6c1d2a405555>\u001b[0m in \u001b[0;36m<module>\u001b[0;34m\u001b[0m\n\u001b[1;32m      1\u001b[0m \u001b[0;31m# Tie registry to ens --- you'd never say check out this cool website :ip_addr:\u001b[0m\u001b[0;34m\u001b[0m\u001b[0;34m\u001b[0m\u001b[0m\n\u001b[0;32m----> 2\u001b[0;31m \u001b[0mresolver\u001b[0m\u001b[0;34m.\u001b[0m\u001b[0mfunctions\u001b[0m\u001b[0;34m.\u001b[0m\u001b[0maddr\u001b[0m\u001b[0;34m(\u001b[0m\u001b[0mdomain\u001b[0m\u001b[0;34m)\u001b[0m\u001b[0;34m.\u001b[0m\u001b[0mcall\u001b[0m\u001b[0;34m(\u001b[0m\u001b[0;34m)\u001b[0m\u001b[0;34m\u001b[0m\u001b[0m\n\u001b[0m",
      "\u001b[0;31mNameError\u001b[0m: name 'resolver' is not defined"
     ]
    },
    {
     "name": "stderr",
     "output_type": "stream",
     "text": [
      "Future exception was never retrieved\n",
      "future: <Future finished exception=ConnectionClosed('WebSocket connection is closed: code = 1006 (connection closed abnormally [internal]), no reason',)>\n",
      "websockets.exceptions.ConnectionClosed: WebSocket connection is closed: code = 1006 (connection closed abnormally [internal]), no reason\n"
     ]
    }
   ],
   "source": [
    "resolver.functions.addr(domain).call()"
   ]
  },
  {
   "cell_type": "markdown",
   "metadata": {
    "slideshow": {
     "slide_type": "slide"
    }
   },
   "source": [
    "##### Setup\n",
    "##### Deploy \"SaveGrandma\" multisig\n",
    "##### Package up \"SaveGrandma\" \n",
    "##### Deploy new package registry & tie to ENS\n",
    "# Publish \"SaveGrandma\" package  <--\n",
    "##### (Coop) Fund & approve tx \"SaveGrandma\"\n",
    "##### (Dr.) Approve \"SaveGrandma\"\n",
    "##### Save Grandma"
   ]
  },
  {
   "cell_type": "code",
   "execution_count": null,
   "metadata": {
    "slideshow": {
     "slide_type": "slide"
    }
   },
   "outputs": [],
   "source": [
    "# Copy & paste new IPFS here - Returns release id\n",
    "w3.pm.release_package(\"multisig\", \"1.0.2\", \"ipfs://QmbjeDnUqoXPHStCQaMRzyZGRGXsmaDgyg9iUMafLp6iTC\")"
   ]
  },
  {
   "cell_type": "code",
   "execution_count": null,
   "metadata": {
    "slideshow": {
     "slide_type": "fragment"
    }
   },
   "outputs": [],
   "source": [
    "# ethpm.explorer\n",
    "w3.pm.get_release_data(\"multisig\", \"1.0.2\")"
   ]
  },
  {
   "cell_type": "markdown",
   "metadata": {
    "slideshow": {
     "slide_type": "slide"
    }
   },
   "source": [
    "##### Setup\n",
    "##### Deploy \"SaveGrandma\" multisig\n",
    "##### Package up \"SaveGrandma\" \n",
    "##### Deploy new package registry  & tie to ENS\n",
    "##### Publish \"SaveGrandma\" package \n",
    "# (Coop) Fund & approve tx \"SaveGrandma\"  <--\n",
    "##### (Dr.) Approve \"SaveGrandma\"\n",
    "##### Save Grandma"
   ]
  },
  {
   "cell_type": "code",
   "execution_count": 3,
   "metadata": {
    "slideshow": {
     "slide_type": "slide"
    }
   },
   "outputs": [],
   "source": [
    "# coop_w3 already setup with auto-signing\n",
    "coop_w3.pm.set_registry('drmantistoboggan.eth')"
   ]
  },
  {
   "cell_type": "code",
   "execution_count": 4,
   "metadata": {
    "slideshow": {
     "slide_type": "fragment"
    }
   },
   "outputs": [
    {
     "data": {
      "text/plain": [
       "'0x46D533f1bdcD034785dbf7AcFca723c55B15b0b5'"
      ]
     },
     "execution_count": 4,
     "metadata": {},
     "output_type": "execute_result"
    }
   ],
   "source": [
    "coop_w3.pm.registry.address"
   ]
  },
  {
   "cell_type": "code",
   "execution_count": 5,
   "metadata": {
    "slideshow": {
     "slide_type": "fragment"
    }
   },
   "outputs": [],
   "source": [
    "coop_multisig_pkg = coop_w3.pm.get_package(\"multisig\", \"1.0.2\")"
   ]
  },
  {
   "cell_type": "code",
   "execution_count": 6,
   "metadata": {
    "slideshow": {
     "slide_type": "fragment"
    }
   },
   "outputs": [],
   "source": [
    "save_grandma = coop_multisig_pkg.deployments.get_instance(\"SaveGrandma\")"
   ]
  },
  {
   "cell_type": "code",
   "execution_count": 12,
   "metadata": {
    "collapsed": true,
    "slideshow": {
     "slide_type": "slide"
    }
   },
   "outputs": [
    {
     "ename": "TypeError",
     "evalue": "'NoneType' object is not subscriptable",
     "output_type": "error",
     "traceback": [
      "\u001b[0;31m---------------------------------------------------------------------------\u001b[0m",
      "\u001b[0;31mTypeError\u001b[0m                                 Traceback (most recent call last)",
      "\u001b[0;32m<ipython-input-12-ba53d6e128ff>\u001b[0m in \u001b[0;36m<module>\u001b[0;34m\u001b[0m\n\u001b[1;32m      3\u001b[0m \u001b[0mtx1_hash\u001b[0m \u001b[0;34m=\u001b[0m \u001b[0mcoop_multisig\u001b[0m\u001b[0;34m.\u001b[0m\u001b[0mfallback\u001b[0m\u001b[0;34m.\u001b[0m\u001b[0mtransact\u001b[0m\u001b[0;34m(\u001b[0m\u001b[0;34m{\u001b[0m\u001b[0;34m'value'\u001b[0m\u001b[0;34m:\u001b[0m \u001b[0mcoop_w3\u001b[0m\u001b[0;34m.\u001b[0m\u001b[0mtoWei\u001b[0m\u001b[0;34m(\u001b[0m\u001b[0;34m\"0.01\"\u001b[0m\u001b[0;34m,\u001b[0m \u001b[0;34m\"ether\"\u001b[0m\u001b[0;34m)\u001b[0m\u001b[0;34m}\u001b[0m\u001b[0;34m)\u001b[0m\u001b[0;34m\u001b[0m\u001b[0m\n\u001b[1;32m      4\u001b[0m \u001b[0mtx1_receipt\u001b[0m \u001b[0;34m=\u001b[0m \u001b[0mcoop_w3\u001b[0m\u001b[0;34m.\u001b[0m\u001b[0meth\u001b[0m\u001b[0;34m.\u001b[0m\u001b[0mwaitForTransactionReceipt\u001b[0m\u001b[0;34m(\u001b[0m\u001b[0mtx1_hash\u001b[0m\u001b[0;34m)\u001b[0m\u001b[0;34m\u001b[0m\u001b[0m\n\u001b[0;32m----> 5\u001b[0;31m \u001b[0mtx2_hash\u001b[0m \u001b[0;34m=\u001b[0m \u001b[0mcoop_multisig\u001b[0m\u001b[0;34m.\u001b[0m\u001b[0mfunctions\u001b[0m\u001b[0;34m.\u001b[0m\u001b[0msubmitTransaction\u001b[0m\u001b[0;34m(\u001b[0m\u001b[0mGMA_ADDRESS\u001b[0m\u001b[0;34m,\u001b[0m \u001b[0mcoop_w3\u001b[0m\u001b[0;34m.\u001b[0m\u001b[0mtoWei\u001b[0m\u001b[0;34m(\u001b[0m\u001b[0;34m\"0.005\"\u001b[0m\u001b[0;34m,\u001b[0m \u001b[0;34m\"ether\"\u001b[0m\u001b[0;34m)\u001b[0m\u001b[0;34m,\u001b[0m \u001b[0;34mb'0x'\u001b[0m\u001b[0;34m)\u001b[0m\u001b[0;34m.\u001b[0m\u001b[0mtransact\u001b[0m\u001b[0;34m(\u001b[0m\u001b[0;34m)\u001b[0m\u001b[0;34m\u001b[0m\u001b[0m\n\u001b[0m\u001b[1;32m      6\u001b[0m \u001b[0mtx2_receipt\u001b[0m \u001b[0;34m=\u001b[0m \u001b[0mcoop_w3\u001b[0m\u001b[0;34m.\u001b[0m\u001b[0meth\u001b[0m\u001b[0;34m.\u001b[0m\u001b[0mwaitForTransactionReceipt\u001b[0m\u001b[0;34m(\u001b[0m\u001b[0mtx2_hash\u001b[0m\u001b[0;34m)\u001b[0m\u001b[0;34m\u001b[0m\u001b[0m\n",
      "\u001b[0;32m~/ethereum/ethpm-workshop/venv/lib/python3.6/site-packages/web3/contract.py\u001b[0m in \u001b[0;36mtransact\u001b[0;34m(self, transaction)\u001b[0m\n\u001b[1;32m    852\u001b[0m             \u001b[0mself\u001b[0m\u001b[0;34m.\u001b[0m\u001b[0mabi\u001b[0m\u001b[0;34m,\u001b[0m\u001b[0;34m\u001b[0m\u001b[0m\n\u001b[1;32m    853\u001b[0m             \u001b[0;34m*\u001b[0m\u001b[0mself\u001b[0m\u001b[0;34m.\u001b[0m\u001b[0margs\u001b[0m\u001b[0;34m,\u001b[0m\u001b[0;34m\u001b[0m\u001b[0m\n\u001b[0;32m--> 854\u001b[0;31m             \u001b[0;34m**\u001b[0m\u001b[0mself\u001b[0m\u001b[0;34m.\u001b[0m\u001b[0mkwargs\u001b[0m\u001b[0;34m\u001b[0m\u001b[0m\n\u001b[0m\u001b[1;32m    855\u001b[0m         )\n\u001b[1;32m    856\u001b[0m \u001b[0;34m\u001b[0m\u001b[0m\n",
      "\u001b[0;32m~/ethereum/ethpm-workshop/venv/lib/python3.6/site-packages/web3/contract.py\u001b[0m in \u001b[0;36mtransact_with_contract_function\u001b[0;34m(address, web3, function_name, transaction, contract_abi, fn_abi, *args, **kwargs)\u001b[0m\n\u001b[1;32m   1374\u001b[0m     )\n\u001b[1;32m   1375\u001b[0m \u001b[0;34m\u001b[0m\u001b[0m\n\u001b[0;32m-> 1376\u001b[0;31m     \u001b[0mtxn_hash\u001b[0m \u001b[0;34m=\u001b[0m \u001b[0mweb3\u001b[0m\u001b[0;34m.\u001b[0m\u001b[0meth\u001b[0m\u001b[0;34m.\u001b[0m\u001b[0msendTransaction\u001b[0m\u001b[0;34m(\u001b[0m\u001b[0mtransact_transaction\u001b[0m\u001b[0;34m)\u001b[0m\u001b[0;34m\u001b[0m\u001b[0m\n\u001b[0m\u001b[1;32m   1377\u001b[0m     \u001b[0;32mreturn\u001b[0m \u001b[0mtxn_hash\u001b[0m\u001b[0;34m\u001b[0m\u001b[0m\n\u001b[1;32m   1378\u001b[0m \u001b[0;34m\u001b[0m\u001b[0m\n",
      "\u001b[0;32m~/ethereum/ethpm-workshop/venv/lib/python3.6/site-packages/web3/eth.py\u001b[0m in \u001b[0;36msendTransaction\u001b[0;34m(self, transaction)\u001b[0m\n\u001b[1;32m    275\u001b[0m                 \u001b[0mtransaction\u001b[0m\u001b[0;34m,\u001b[0m\u001b[0;34m\u001b[0m\u001b[0m\n\u001b[1;32m    276\u001b[0m                 \u001b[0;34m'gas'\u001b[0m\u001b[0;34m,\u001b[0m\u001b[0;34m\u001b[0m\u001b[0m\n\u001b[0;32m--> 277\u001b[0;31m                 \u001b[0mget_buffered_gas_estimate\u001b[0m\u001b[0;34m(\u001b[0m\u001b[0mself\u001b[0m\u001b[0;34m.\u001b[0m\u001b[0mweb3\u001b[0m\u001b[0;34m,\u001b[0m \u001b[0mtransaction\u001b[0m\u001b[0;34m)\u001b[0m\u001b[0;34m,\u001b[0m\u001b[0;34m\u001b[0m\u001b[0m\n\u001b[0m\u001b[1;32m    278\u001b[0m             )\n\u001b[1;32m    279\u001b[0m \u001b[0;34m\u001b[0m\u001b[0m\n",
      "\u001b[0;32m~/ethereum/ethpm-workshop/venv/lib/python3.6/site-packages/web3/_utils/transactions.py\u001b[0m in \u001b[0;36mget_buffered_gas_estimate\u001b[0;34m(web3, transaction, gas_buffer)\u001b[0m\n\u001b[1;32m     88\u001b[0m     \u001b[0mgas_estimate\u001b[0m \u001b[0;34m=\u001b[0m \u001b[0mweb3\u001b[0m\u001b[0;34m.\u001b[0m\u001b[0meth\u001b[0m\u001b[0;34m.\u001b[0m\u001b[0mestimateGas\u001b[0m\u001b[0;34m(\u001b[0m\u001b[0mgas_estimate_transaction\u001b[0m\u001b[0;34m)\u001b[0m\u001b[0;34m\u001b[0m\u001b[0m\n\u001b[1;32m     89\u001b[0m \u001b[0;34m\u001b[0m\u001b[0m\n\u001b[0;32m---> 90\u001b[0;31m     \u001b[0mgas_limit\u001b[0m \u001b[0;34m=\u001b[0m \u001b[0mget_block_gas_limit\u001b[0m\u001b[0;34m(\u001b[0m\u001b[0mweb3\u001b[0m\u001b[0;34m)\u001b[0m\u001b[0;34m\u001b[0m\u001b[0m\n\u001b[0m\u001b[1;32m     91\u001b[0m \u001b[0;34m\u001b[0m\u001b[0m\n\u001b[1;32m     92\u001b[0m     \u001b[0;32mif\u001b[0m \u001b[0mgas_estimate\u001b[0m \u001b[0;34m>\u001b[0m \u001b[0mgas_limit\u001b[0m\u001b[0;34m:\u001b[0m\u001b[0;34m\u001b[0m\u001b[0m\n",
      "\u001b[0;32m~/ethereum/ethpm-workshop/venv/lib/python3.6/site-packages/web3/_utils/transactions.py\u001b[0m in \u001b[0;36mget_block_gas_limit\u001b[0;34m(web3, block_identifier)\u001b[0m\n\u001b[1;32m     80\u001b[0m         \u001b[0mblock_identifier\u001b[0m \u001b[0;34m=\u001b[0m \u001b[0mweb3\u001b[0m\u001b[0;34m.\u001b[0m\u001b[0meth\u001b[0m\u001b[0;34m.\u001b[0m\u001b[0mblockNumber\u001b[0m\u001b[0;34m\u001b[0m\u001b[0m\n\u001b[1;32m     81\u001b[0m     \u001b[0mblock\u001b[0m \u001b[0;34m=\u001b[0m \u001b[0mweb3\u001b[0m\u001b[0;34m.\u001b[0m\u001b[0meth\u001b[0m\u001b[0;34m.\u001b[0m\u001b[0mgetBlock\u001b[0m\u001b[0;34m(\u001b[0m\u001b[0mblock_identifier\u001b[0m\u001b[0;34m)\u001b[0m\u001b[0;34m\u001b[0m\u001b[0m\n\u001b[0;32m---> 82\u001b[0;31m     \u001b[0;32mreturn\u001b[0m \u001b[0mblock\u001b[0m\u001b[0;34m[\u001b[0m\u001b[0;34m'gasLimit'\u001b[0m\u001b[0;34m]\u001b[0m\u001b[0;34m\u001b[0m\u001b[0m\n\u001b[0m\u001b[1;32m     83\u001b[0m \u001b[0;34m\u001b[0m\u001b[0m\n\u001b[1;32m     84\u001b[0m \u001b[0;34m\u001b[0m\u001b[0m\n",
      "\u001b[0;31mTypeError\u001b[0m: 'NoneType' object is not subscriptable"
     ]
    }
   ],
   "source": [
    "# Fund multisig\n",
    "# Submit tx proposal\n",
    "tx1_hash = save_grandma.fallback.transact({'value': coop_w3.toWei(\"0.01\", \"ether\")})\n",
    "tx1_receipt = coop_w3.eth.waitForTransactionReceipt(tx1_hash)\n"
   ]
  },
  {
   "cell_type": "code",
   "execution_count": 16,
   "metadata": {
    "collapsed": true,
    "slideshow": {
     "slide_type": "fragment"
    }
   },
   "outputs": [
    {
     "ename": "TimeExhausted",
     "evalue": "Transaction b'D\\xac\\x97\\x8d\\xe1\\xc5\\x83\\x1a\\xbf~ \\x9f\\x06\\\\@\\xb1$\\x97\\xee1\\xb0\\x1b\\xd0\\x16\\x1d\\xa1\\xef_}\\xc3\\xaae' is not in the chain, after 120 seconds",
     "output_type": "error",
     "traceback": [
      "\u001b[0;31m---------------------------------------------------------------------------\u001b[0m",
      "\u001b[0;31mTimeout\u001b[0m                                   Traceback (most recent call last)",
      "\u001b[0;32m~/ethereum/ethpm-workshop/venv/lib/python3.6/site-packages/web3/eth.py\u001b[0m in \u001b[0;36mwaitForTransactionReceipt\u001b[0;34m(self, transaction_hash, timeout)\u001b[0m\n\u001b[1;32m    229\u001b[0m         \u001b[0;32mtry\u001b[0m\u001b[0;34m:\u001b[0m\u001b[0;34m\u001b[0m\u001b[0m\n\u001b[0;32m--> 230\u001b[0;31m             \u001b[0;32mreturn\u001b[0m \u001b[0mwait_for_transaction_receipt\u001b[0m\u001b[0;34m(\u001b[0m\u001b[0mself\u001b[0m\u001b[0;34m.\u001b[0m\u001b[0mweb3\u001b[0m\u001b[0;34m,\u001b[0m \u001b[0mtransaction_hash\u001b[0m\u001b[0;34m,\u001b[0m \u001b[0mtimeout\u001b[0m\u001b[0;34m)\u001b[0m\u001b[0;34m\u001b[0m\u001b[0m\n\u001b[0m\u001b[1;32m    231\u001b[0m         \u001b[0;32mexcept\u001b[0m \u001b[0mTimeout\u001b[0m\u001b[0;34m:\u001b[0m\u001b[0;34m\u001b[0m\u001b[0m\n",
      "\u001b[0;32m~/ethereum/ethpm-workshop/venv/lib/python3.6/site-packages/web3/_utils/transactions.py\u001b[0m in \u001b[0;36mwait_for_transaction_receipt\u001b[0;34m(web3, txn_hash, timeout, poll_latency)\u001b[0m\n\u001b[1;32m     73\u001b[0m                 \u001b[0;32mbreak\u001b[0m\u001b[0;34m\u001b[0m\u001b[0m\n\u001b[0;32m---> 74\u001b[0;31m             \u001b[0m_timeout\u001b[0m\u001b[0;34m.\u001b[0m\u001b[0msleep\u001b[0m\u001b[0;34m(\u001b[0m\u001b[0mpoll_latency\u001b[0m\u001b[0;34m)\u001b[0m\u001b[0;34m\u001b[0m\u001b[0m\n\u001b[0m\u001b[1;32m     75\u001b[0m     \u001b[0;32mreturn\u001b[0m \u001b[0mtxn_receipt\u001b[0m\u001b[0;34m\u001b[0m\u001b[0m\n",
      "\u001b[0;32m~/ethereum/ethpm-workshop/venv/lib/python3.6/site-packages/web3/_utils/threads.py\u001b[0m in \u001b[0;36msleep\u001b[0;34m(self, seconds)\u001b[0m\n\u001b[1;32m     67\u001b[0m         \u001b[0mtime\u001b[0m\u001b[0;34m.\u001b[0m\u001b[0msleep\u001b[0m\u001b[0;34m(\u001b[0m\u001b[0mseconds\u001b[0m\u001b[0;34m)\u001b[0m\u001b[0;34m\u001b[0m\u001b[0m\n\u001b[0;32m---> 68\u001b[0;31m         \u001b[0mself\u001b[0m\u001b[0;34m.\u001b[0m\u001b[0mcheck\u001b[0m\u001b[0;34m(\u001b[0m\u001b[0;34m)\u001b[0m\u001b[0;34m\u001b[0m\u001b[0m\n\u001b[0m\u001b[1;32m     69\u001b[0m \u001b[0;34m\u001b[0m\u001b[0m\n",
      "\u001b[0;32m~/ethereum/ethpm-workshop/venv/lib/python3.6/site-packages/web3/_utils/threads.py\u001b[0m in \u001b[0;36mcheck\u001b[0;34m(self)\u001b[0m\n\u001b[1;32m     60\u001b[0m             \u001b[0;32melse\u001b[0m\u001b[0;34m:\u001b[0m\u001b[0;34m\u001b[0m\u001b[0m\n\u001b[0;32m---> 61\u001b[0;31m                 \u001b[0;32mraise\u001b[0m \u001b[0mself\u001b[0m\u001b[0;34m\u001b[0m\u001b[0m\n\u001b[0m\u001b[1;32m     62\u001b[0m \u001b[0;34m\u001b[0m\u001b[0m\n",
      "\u001b[0;31mTimeout\u001b[0m: 120 seconds",
      "\nDuring handling of the above exception, another exception occurred:\n",
      "\u001b[0;31mTimeExhausted\u001b[0m                             Traceback (most recent call last)",
      "\u001b[0;32m<ipython-input-16-c3ef04aac9f6>\u001b[0m in \u001b[0;36m<module>\u001b[0;34m\u001b[0m\n\u001b[1;32m      1\u001b[0m \u001b[0mtx2_hash\u001b[0m \u001b[0;34m=\u001b[0m \u001b[0mcoop_multisig\u001b[0m\u001b[0;34m.\u001b[0m\u001b[0mfunctions\u001b[0m\u001b[0;34m.\u001b[0m\u001b[0msubmitTransaction\u001b[0m\u001b[0;34m(\u001b[0m\u001b[0mGMA_ADDRESS\u001b[0m\u001b[0;34m,\u001b[0m \u001b[0mcoop_w3\u001b[0m\u001b[0;34m.\u001b[0m\u001b[0mtoWei\u001b[0m\u001b[0;34m(\u001b[0m\u001b[0;34m\"0.005\"\u001b[0m\u001b[0;34m,\u001b[0m \u001b[0;34m\"ether\"\u001b[0m\u001b[0;34m)\u001b[0m\u001b[0;34m,\u001b[0m \u001b[0;34mb'0x'\u001b[0m\u001b[0;34m)\u001b[0m\u001b[0;34m.\u001b[0m\u001b[0mtransact\u001b[0m\u001b[0;34m(\u001b[0m\u001b[0;34m)\u001b[0m\u001b[0;34m\u001b[0m\u001b[0m\n\u001b[0;32m----> 2\u001b[0;31m \u001b[0mtx2_receipt\u001b[0m \u001b[0;34m=\u001b[0m \u001b[0mcoop_w3\u001b[0m\u001b[0;34m.\u001b[0m\u001b[0meth\u001b[0m\u001b[0;34m.\u001b[0m\u001b[0mwaitForTransactionReceipt\u001b[0m\u001b[0;34m(\u001b[0m\u001b[0mtx2_hash\u001b[0m\u001b[0;34m)\u001b[0m\u001b[0;34m\u001b[0m\u001b[0m\n\u001b[0m",
      "\u001b[0;32m~/ethereum/ethpm-workshop/venv/lib/python3.6/site-packages/web3/eth.py\u001b[0m in \u001b[0;36mwaitForTransactionReceipt\u001b[0;34m(self, transaction_hash, timeout)\u001b[0m\n\u001b[1;32m    233\u001b[0m                 \"Transaction {} is not in the chain, after {} seconds\".format(\n\u001b[1;32m    234\u001b[0m                     \u001b[0mtransaction_hash\u001b[0m\u001b[0;34m,\u001b[0m\u001b[0;34m\u001b[0m\u001b[0m\n\u001b[0;32m--> 235\u001b[0;31m                     \u001b[0mtimeout\u001b[0m\u001b[0;34m,\u001b[0m\u001b[0;34m\u001b[0m\u001b[0m\n\u001b[0m\u001b[1;32m    236\u001b[0m                 )\n\u001b[1;32m    237\u001b[0m             )\n",
      "\u001b[0;31mTimeExhausted\u001b[0m: Transaction b'D\\xac\\x97\\x8d\\xe1\\xc5\\x83\\x1a\\xbf~ \\x9f\\x06\\\\@\\xb1$\\x97\\xee1\\xb0\\x1b\\xd0\\x16\\x1d\\xa1\\xef_}\\xc3\\xaae' is not in the chain, after 120 seconds"
     ]
    }
   ],
   "source": [
    "tx2_hash = save_grandma.functions.submitTransaction(GMA_ADDRESS, coop_w3.toWei(\"0.005\", \"ether\"), b'0x').transact()\n",
    "tx2_receipt = coop_w3.eth.waitForTransactionReceipt(tx2_hash)\n",
    "# set tx_id"
   ]
  },
  {
   "cell_type": "code",
   "execution_count": null,
   "metadata": {
    "slideshow": {
     "slide_type": "fragment"
    }
   },
   "outputs": [],
   "source": [
    "tx3_hash = save_grandma.functions.confirmTransaction(tx_id).transact()\n",
    "coop_w3.eth.waitForTransactionReceipt(tx3_hash)"
   ]
  },
  {
   "cell_type": "code",
   "execution_count": 13,
   "metadata": {
    "slideshow": {
     "slide_type": "fragment"
    }
   },
   "outputs": [
    {
     "name": "stdout",
     "output_type": "stream",
     "text": [
      "Grandma:  0\n",
      "Multisig:  10000000000000000\n",
      "Coop:  31041075188335019\n"
     ]
    }
   ],
   "source": [
    "print_balances(coop_w3, save_grandma.address)"
   ]
  },
  {
   "cell_type": "code",
   "execution_count": 22,
   "metadata": {
    "slideshow": {
     "slide_type": "slide"
    }
   },
   "outputs": [
    {
     "data": {
      "text/plain": [
       "[0]"
      ]
     },
     "execution_count": 22,
     "metadata": {},
     "output_type": "execute_result"
    }
   ],
   "source": [
    "coop_multisig.functions.getTransactionIds(0, 1, True, True).call()"
   ]
  },
  {
   "cell_type": "code",
   "execution_count": 28,
   "metadata": {
    "slideshow": {
     "slide_type": "fragment"
    }
   },
   "outputs": [
    {
     "data": {
      "text/plain": [
       "1"
      ]
     },
     "execution_count": 28,
     "metadata": {},
     "output_type": "execute_result"
    }
   ],
   "source": [
    "coop_multisig.functions.getConfirmationCount(0).call()"
   ]
  },
  {
   "cell_type": "code",
   "execution_count": 38,
   "metadata": {
    "slideshow": {
     "slide_type": "fragment"
    }
   },
   "outputs": [
    {
     "name": "stdout",
     "output_type": "stream",
     "text": [
      "Grandma:  5000000000000000\n",
      "Multisig:  5000000000000000\n",
      "Coop:  30620559188335019\n"
     ]
    }
   ],
   "source": [
    "print_balances(coop_w3, coop_multisig.address)"
   ]
  },
  {
   "cell_type": "markdown",
   "metadata": {
    "slideshow": {
     "slide_type": "slide"
    }
   },
   "source": [
    "##### Setup\n",
    "##### Deploy \"SaveGrandma\" multisig\n",
    "##### Package up \"SaveGrandma\" \n",
    "##### Deploy new package registry & tie to ENS\n",
    "##### Publish \"SaveGrandma\" package \n",
    "##### (Coop) Fund & approve tx \"SaveGrandma\" \n",
    "# (Dr.) Approve \"SaveGrandma\"  <--\n",
    "##### Save Grandma"
   ]
  },
  {
   "cell_type": "code",
   "execution_count": 34,
   "metadata": {
    "slideshow": {
     "slide_type": "slide"
    }
   },
   "outputs": [],
   "source": [
    "multisig_pkg = w3.pm.get_package(\"multisig\", \"1.0.2\")"
   ]
  },
  {
   "cell_type": "code",
   "execution_count": 35,
   "metadata": {
    "slideshow": {
     "slide_type": "fragment"
    }
   },
   "outputs": [],
   "source": [
    "multisig = multisig_pkg.deployments.get_instance(\"SaveGrandma\")"
   ]
  },
  {
   "cell_type": "code",
   "execution_count": 36,
   "metadata": {
    "slideshow": {
     "slide_type": "fragment"
    }
   },
   "outputs": [
    {
     "data": {
      "text/plain": [
       "HexBytes('0x61a7847b635e573a2ae5f7a5e53083d691dccca258f69c3a195ac7010bfcacd4')"
      ]
     },
     "execution_count": 36,
     "metadata": {},
     "output_type": "execute_result"
    }
   ],
   "source": [
    "multisig.functions.confirmTransaction(0).transact()"
   ]
  },
  {
   "cell_type": "markdown",
   "metadata": {
    "slideshow": {
     "slide_type": "slide"
    }
   },
   "source": [
    "# Grandma lives!"
   ]
  },
  {
   "cell_type": "code",
   "execution_count": 38,
   "metadata": {
    "slideshow": {
     "slide_type": "fragment"
    }
   },
   "outputs": [
    {
     "name": "stdout",
     "output_type": "stream",
     "text": [
      "Grandma:  5000000000000000\n",
      "Multisig:  5000000000000000\n",
      "Coop:  30620559188335019\n"
     ]
    }
   ],
   "source": [
    "print_balances(coop_w3, coop_multisig.address)"
   ]
  }
 ],
 "metadata": {
  "celltoolbar": "Slideshow",
  "kernelspec": {
   "display_name": "venv",
   "language": "python",
   "name": "venv"
  },
  "language_info": {
   "codemirror_mode": {
    "name": "ipython",
    "version": 3
   },
   "file_extension": ".py",
   "mimetype": "text/x-python",
   "name": "python",
   "nbconvert_exporter": "python",
   "pygments_lexer": "ipython3",
   "version": "3.6.0"
  }
 },
 "nbformat": 4,
 "nbformat_minor": 2
}
